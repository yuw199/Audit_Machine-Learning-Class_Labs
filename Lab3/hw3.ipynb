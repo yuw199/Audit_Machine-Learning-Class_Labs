{
 "cells": [
  {
   "cell_type": "markdown",
   "metadata": {},
   "source": [
    "### 2 Predicting Yelp Ratings"
   ]
  },
  {
   "cell_type": "code",
   "execution_count": 1,
   "metadata": {},
   "outputs": [],
   "source": [
    "import numpy as np\n",
    "import pandas as pd"
   ]
  },
  {
   "cell_type": "code",
   "execution_count": 2,
   "metadata": {},
   "outputs": [
    {
     "name": "stdout",
     "output_type": "stream",
     "text": [
      "<class 'pandas.core.frame.DataFrame'>\n",
      "RangeIndex: 6272 entries, 0 to 6271\n",
      "Data columns (total 13 columns):\n",
      " #   Column                      Non-Null Count  Dtype  \n",
      "---  ------                      --------------  -----  \n",
      " 0   stars                       6272 non-null   float64\n",
      " 1   review_count                6272 non-null   int64  \n",
      " 2   GoodForKids                 6272 non-null   object \n",
      " 3   Alcohol                     6272 non-null   object \n",
      " 4   BusinessAcceptsCreditCards  6272 non-null   object \n",
      " 5   WiFi                        6272 non-null   object \n",
      " 6   BikeParking                 6272 non-null   object \n",
      " 7   ByAppointmentOnly           6272 non-null   object \n",
      " 8   WheelechairAccessible       6272 non-null   object \n",
      " 9   OutdoorSeating              6272 non-null   object \n",
      " 10  RestaurantsReservations     6272 non-null   object \n",
      " 11  DogsAllowed                 6272 non-null   object \n",
      " 12  Caters                      6272 non-null   object \n",
      "dtypes: float64(1), int64(1), object(11)\n",
      "memory usage: 637.1+ KB\n"
     ]
    },
    {
     "data": {
      "text/html": [
       "<div>\n",
       "<style scoped>\n",
       "    .dataframe tbody tr th:only-of-type {\n",
       "        vertical-align: middle;\n",
       "    }\n",
       "\n",
       "    .dataframe tbody tr th {\n",
       "        vertical-align: top;\n",
       "    }\n",
       "\n",
       "    .dataframe thead th {\n",
       "        text-align: right;\n",
       "    }\n",
       "</style>\n",
       "<table border=\"1\" class=\"dataframe\">\n",
       "  <thead>\n",
       "    <tr style=\"text-align: right;\">\n",
       "      <th></th>\n",
       "      <th>stars</th>\n",
       "      <th>review_count</th>\n",
       "      <th>GoodForKids</th>\n",
       "      <th>Alcohol</th>\n",
       "      <th>BusinessAcceptsCreditCards</th>\n",
       "      <th>WiFi</th>\n",
       "      <th>BikeParking</th>\n",
       "      <th>ByAppointmentOnly</th>\n",
       "      <th>WheelechairAccessible</th>\n",
       "      <th>OutdoorSeating</th>\n",
       "      <th>RestaurantsReservations</th>\n",
       "      <th>DogsAllowed</th>\n",
       "      <th>Caters</th>\n",
       "    </tr>\n",
       "  </thead>\n",
       "  <tbody>\n",
       "    <tr>\n",
       "      <th>0</th>\n",
       "      <td>3.5</td>\n",
       "      <td>26</td>\n",
       "      <td>(Missing)</td>\n",
       "      <td>(Missing)</td>\n",
       "      <td>TRUE</td>\n",
       "      <td>(Missing)</td>\n",
       "      <td>TRUE</td>\n",
       "      <td>(Missing)</td>\n",
       "      <td>(Missing)</td>\n",
       "      <td>(Missing)</td>\n",
       "      <td>(Missing)</td>\n",
       "      <td>(Missing)</td>\n",
       "      <td>(Missing)</td>\n",
       "    </tr>\n",
       "    <tr>\n",
       "      <th>1</th>\n",
       "      <td>3.0</td>\n",
       "      <td>40</td>\n",
       "      <td>TRUE</td>\n",
       "      <td>'full_bar'</td>\n",
       "      <td>TRUE</td>\n",
       "      <td>'free'</td>\n",
       "      <td>FALSE</td>\n",
       "      <td>(Missing)</td>\n",
       "      <td>(Missing)</td>\n",
       "      <td>TRUE</td>\n",
       "      <td>FALSE</td>\n",
       "      <td>(Missing)</td>\n",
       "      <td>(Missing)</td>\n",
       "    </tr>\n",
       "    <tr>\n",
       "      <th>2</th>\n",
       "      <td>4.5</td>\n",
       "      <td>45</td>\n",
       "      <td>TRUE</td>\n",
       "      <td>'full_bar'</td>\n",
       "      <td>TRUE</td>\n",
       "      <td>'free'</td>\n",
       "      <td>FALSE</td>\n",
       "      <td>(Missing)</td>\n",
       "      <td>(Missing)</td>\n",
       "      <td>TRUE</td>\n",
       "      <td>FALSE</td>\n",
       "      <td>(Missing)</td>\n",
       "      <td>(Missing)</td>\n",
       "    </tr>\n",
       "    <tr>\n",
       "      <th>3</th>\n",
       "      <td>4.5</td>\n",
       "      <td>61</td>\n",
       "      <td>TRUE</td>\n",
       "      <td>(Missing)</td>\n",
       "      <td>TRUE</td>\n",
       "      <td>(Missing)</td>\n",
       "      <td>(Missing)</td>\n",
       "      <td>(Missing)</td>\n",
       "      <td>(Missing)</td>\n",
       "      <td>FALSE</td>\n",
       "      <td>(Missing)</td>\n",
       "      <td>(Missing)</td>\n",
       "      <td>FALSE</td>\n",
       "    </tr>\n",
       "    <tr>\n",
       "      <th>4</th>\n",
       "      <td>3.5</td>\n",
       "      <td>5</td>\n",
       "      <td>TRUE</td>\n",
       "      <td>'beer_and_wine'</td>\n",
       "      <td>TRUE</td>\n",
       "      <td>(Missing)</td>\n",
       "      <td>(Missing)</td>\n",
       "      <td>(Missing)</td>\n",
       "      <td>(Missing)</td>\n",
       "      <td>FALSE</td>\n",
       "      <td>FALSE</td>\n",
       "      <td>(Missing)</td>\n",
       "      <td>(Missing)</td>\n",
       "    </tr>\n",
       "  </tbody>\n",
       "</table>\n",
       "</div>"
      ],
      "text/plain": [
       "   stars  review_count GoodForKids          Alcohol  \\\n",
       "0    3.5            26   (Missing)        (Missing)   \n",
       "1    3.0            40        TRUE       'full_bar'   \n",
       "2    4.5            45        TRUE       'full_bar'   \n",
       "3    4.5            61        TRUE        (Missing)   \n",
       "4    3.5             5        TRUE  'beer_and_wine'   \n",
       "\n",
       "  BusinessAcceptsCreditCards       WiFi BikeParking ByAppointmentOnly  \\\n",
       "0                       TRUE  (Missing)        TRUE         (Missing)   \n",
       "1                       TRUE     'free'       FALSE         (Missing)   \n",
       "2                       TRUE     'free'       FALSE         (Missing)   \n",
       "3                       TRUE  (Missing)   (Missing)         (Missing)   \n",
       "4                       TRUE  (Missing)   (Missing)         (Missing)   \n",
       "\n",
       "  WheelechairAccessible OutdoorSeating RestaurantsReservations DogsAllowed  \\\n",
       "0             (Missing)      (Missing)               (Missing)   (Missing)   \n",
       "1             (Missing)           TRUE                   FALSE   (Missing)   \n",
       "2             (Missing)           TRUE                   FALSE   (Missing)   \n",
       "3             (Missing)          FALSE               (Missing)   (Missing)   \n",
       "4             (Missing)          FALSE                   FALSE   (Missing)   \n",
       "\n",
       "      Caters  \n",
       "0  (Missing)  \n",
       "1  (Missing)  \n",
       "2  (Missing)  \n",
       "3      FALSE  \n",
       "4  (Missing)  "
      ]
     },
     "execution_count": 2,
     "metadata": {},
     "output_type": "execute_result"
    }
   ],
   "source": [
    "yelp_train = pd.read_csv(\"/Users/yixuanwang/Desktop/ucb_21/IEOR_142/hw3/yelp142_train.csv\")\n",
    "yelp_test = pd.read_csv(\"/Users/yixuanwang/Desktop/ucb_21/IEOR_142/hw3/yelp142_test.csv\")\n",
    "yelp_train.info()\n",
    "yelp_train.head()"
   ]
  },
  {
   "cell_type": "markdown",
   "metadata": {},
   "source": [
    "\n",
    "### a) (5 points) There are many missing entries in this dataset, denoted by (Missing) in the data files. In particular, all of the attribute features contain missing values and Table 1 reports the percentage of observations where each attribute is missing. In general, there are several approaches for dealing with missing values in supervised learning. Note that each attribute with missing values in our dataset is a categorical feature and, in the subsequent models that you will build, you should treat (Missing) as an explicit category. Do you think this modeling choice is reasonable or not? Explain your answer.\n",
    "\n",
    "Yes, it is reasonable, because the missing data can be interpreted as a special group, where no information is available. For any categorical variable, this “(Missing)” category means that the owner did not provide any information for this variable. But the act of not providing information itself may be a signal of the quality of the restaurant. This approach is also quite flexible as compared to throwing away rows, for example, since it allows us to use partial information available for each restaurant."
   ]
  },
  {
   "cell_type": "markdown",
   "metadata": {},
   "source": [
    "\n",
    "### b) (15 points) Let us start by building regression models for predicting stars based on all of the provided features listed in Table 1. All of your models should, of course, be built only using the training data provided in the yelp142 train.csv file\n"
   ]
  },
  {
   "cell_type": "markdown",
   "metadata": {},
   "source": [
    "**i) First build a linear regression model.**"
   ]
  },
  {
   "cell_type": "code",
   "execution_count": 3,
   "metadata": {},
   "outputs": [
    {
     "name": "stdout",
     "output_type": "stream",
     "text": [
      "                            OLS Regression Results                            \n",
      "==============================================================================\n",
      "Dep. Variable:                  stars   R-squared:                       0.161\n",
      "Model:                            OLS   Adj. R-squared:                  0.157\n",
      "Method:                 Least Squares   F-statistic:                     47.80\n",
      "Date:                Thu, 22 Apr 2021   Prob (F-statistic):          3.10e-215\n",
      "Time:                        18:31:25   Log-Likelihood:                -7317.5\n",
      "No. Observations:                6272   AIC:                         1.469e+04\n",
      "Df Residuals:                    6246   BIC:                         1.486e+04\n",
      "Df Model:                          25                                         \n",
      "Covariance Type:            nonrobust                                         \n",
      "============================================================================================================================================\n",
      "                                                                               coef    std err          t      P>|t|      [0.025      0.975]\n",
      "--------------------------------------------------------------------------------------------------------------------------------------------\n",
      "Intercept                                                                    3.3386      0.039     85.256      0.000       3.262       3.415\n",
      "C(GoodForKids, Treatment(reference=\"(Missing)\"))[T.FALSE]                   -0.0283      0.046     -0.614      0.540      -0.119       0.062\n",
      "C(GoodForKids, Treatment(reference=\"(Missing)\"))[T.TRUE]                    -0.1240      0.036     -3.487      0.000      -0.194      -0.054\n",
      "C(Alcohol, Treatment(reference=\"(Missing)\"))[T.'beer_and_wine']              0.1798      0.047      3.853      0.000       0.088       0.271\n",
      "C(Alcohol, Treatment(reference=\"(Missing)\"))[T.'full_bar']                   0.0713      0.044      1.632      0.103      -0.014       0.157\n",
      "C(Alcohol, Treatment(reference=\"(Missing)\"))[T.'none']                       0.0901      0.039      2.300      0.021       0.013       0.167\n",
      "C(BusinessAcceptsCreditCards, Treatment(reference=\"(Missing)\"))[T.FALSE]     0.6656      0.091      7.352      0.000       0.488       0.843\n",
      "C(BusinessAcceptsCreditCards, Treatment(reference=\"(Missing)\"))[T.TRUE]      0.0968      0.046      2.095      0.036       0.006       0.187\n",
      "C(WiFi, Treatment(reference=\"(Missing)\"))[T.'free']                          0.0524      0.035      1.518      0.129      -0.015       0.120\n",
      "C(WiFi, Treatment(reference=\"(Missing)\"))[T.'no']                            0.0688      0.034      2.051      0.040       0.003       0.135\n",
      "C(WiFi, Treatment(reference=\"(Missing)\"))[T.'paid']                         -0.2286      0.109     -2.090      0.037      -0.443      -0.014\n",
      "C(BikeParking, Treatment(reference=\"(Missing)\"))[T.FALSE]                   -0.1346      0.032     -4.184      0.000      -0.198      -0.072\n",
      "C(BikeParking, Treatment(reference=\"(Missing)\"))[T.TRUE]                    -0.0648      0.029     -2.236      0.025      -0.122      -0.008\n",
      "C(ByAppointmentOnly, Treatment(reference=\"(Missing)\"))[T.FALSE]              0.1476      0.034      4.361      0.000       0.081       0.214\n",
      "C(ByAppointmentOnly, Treatment(reference=\"(Missing)\"))[T.TRUE]               0.2671      0.107      2.501      0.012       0.058       0.476\n",
      "C(WheelechairAccessible, Treatment(reference=\"(Missing)\"))[T.FALSE]          0.7294      0.090      8.116      0.000       0.553       0.906\n",
      "C(WheelechairAccessible, Treatment(reference=\"(Missing)\"))[T.TRUE]           0.3599      0.028     12.927      0.000       0.305       0.415\n",
      "C(OutdoorSeating, Treatment(reference=\"(Missing)\"))[T.FALSE]                -0.0332      0.040     -0.833      0.405      -0.111       0.045\n",
      "C(OutdoorSeating, Treatment(reference=\"(Missing)\"))[T.TRUE]                  0.0859      0.042      2.021      0.043       0.003       0.169\n",
      "C(RestaurantsReservations, Treatment(reference=\"(Missing)\"))[T.FALSE]       -0.1932      0.041     -4.762      0.000      -0.273      -0.114\n",
      "C(RestaurantsReservations, Treatment(reference=\"(Missing)\"))[T.TRUE]         0.0085      0.046      0.185      0.853      -0.081       0.098\n",
      "C(DogsAllowed, Treatment(reference=\"(Missing)\"))[T.FALSE]                    0.2429      0.029      8.260      0.000       0.185       0.301\n",
      "C(DogsAllowed, Treatment(reference=\"(Missing)\"))[T.TRUE]                     0.1173      0.055      2.147      0.032       0.010       0.224\n",
      "C(Caters, Treatment(reference=\"(Missing)\"))[T.FALSE]                        -0.1362      0.030     -4.471      0.000      -0.196      -0.077\n",
      "C(Caters, Treatment(reference=\"(Missing)\"))[T.TRUE]                          0.1059      0.033      3.225      0.001       0.042       0.170\n",
      "review_count                                                                 0.0001   2.64e-05      3.918      0.000    5.16e-05       0.000\n",
      "==============================================================================\n",
      "Omnibus:                      139.757   Durbin-Watson:                   2.085\n",
      "Prob(Omnibus):                  0.000   Jarque-Bera (JB):              148.880\n",
      "Skew:                          -0.377   Prob(JB):                     4.69e-33\n",
      "Kurtosis:                       3.024   Cond. No.                     5.31e+03\n",
      "==============================================================================\n",
      "\n",
      "Notes:\n",
      "[1] Standard Errors assume that the covariance matrix of the errors is correctly specified.\n",
      "[2] The condition number is large, 5.31e+03. This might indicate that there are\n",
      "strong multicollinearity or other numerical problems.\n"
     ]
    }
   ],
   "source": [
    "import statsmodels.formula.api as smf\n",
    "\n",
    "ols = smf.ols(formula='stars ~ review_count + C(GoodForKids, Treatment(reference=\"(Missing)\")) + C(Alcohol, Treatment(reference=\"(Missing)\")) + C(BusinessAcceptsCreditCards, Treatment(reference=\"(Missing)\")) + C(WiFi, Treatment(reference=\"(Missing)\")) + C(BikeParking, Treatment(reference=\"(Missing)\")) + C(ByAppointmentOnly, Treatment(reference=\"(Missing)\")) + C(WheelechairAccessible, Treatment(reference=\"(Missing)\")) + C(OutdoorSeating, Treatment(reference=\"(Missing)\")) + C(RestaurantsReservations, Treatment(reference=\"(Missing)\")) + C(DogsAllowed, Treatment(reference=\"(Missing)\")) + C(Caters, Treatment(reference=\"(Missing)\"))', \n",
    "                 data=yelp_train)\n",
    "model1 =ols.fit()\n",
    "print(model1.summary())"
   ]
  },
  {
   "cell_type": "markdown",
   "metadata": {},
   "source": [
    "**ii) Now build a regression tree model (using an implementation of the CART algorithm). Select the complexity parameter (i.e., ccp alpha in sklearn) value for the tree through cross-validation, and explain how you did the cross-validation and how you selected the complexity parameter value.**\n"
   ]
  },
  {
   "cell_type": "code",
   "execution_count": 4,
   "metadata": {},
   "outputs": [
    {
     "data": {
      "text/plain": [
       "((4390, 36), (1882, 36))"
      ]
     },
     "execution_count": 4,
     "metadata": {},
     "output_type": "execute_result"
    }
   ],
   "source": [
    "from sklearn.model_selection import train_test_split\n",
    "\n",
    "y = yelp_train['stars']\n",
    "X = pd.get_dummies(yelp_train.drop(['stars'], axis=1))\n",
    "\n",
    "X_train, X_test, y_train, y_test = train_test_split(X, y, test_size=0.3, random_state=88)\n",
    "X_train.shape, X_test.shape"
   ]
  },
  {
   "cell_type": "markdown",
   "metadata": {},
   "source": [
    "(ii) Referring to the code below, to do the cross-validation, we need to:\n",
    "1. specify a grid with different values of ccp alpha,\n",
    "2. initialize a DecisionTreeRegressor,\n",
    "3. use the KFold function to make sure that the data is randomly split into k-folds. “n splits” is usually set as 5, but it can be any value between 5 and 10; “random state” needs to be specified, although it can be any value; “shuffle” has to be True\n",
    "4. correctly specify the parameters of GridSearchCV, where scoring = ’r2’ or ’rmse’ and cv =cv.\n",
    "5. We choose the best value of ‘ccp alpha’, by looking at the best params attribute, which is the one that corresponds to the highest validation scoring."
   ]
  },
  {
   "cell_type": "code",
   "execution_count": 5,
   "metadata": {},
   "outputs": [
    {
     "data": {
      "text/plain": [
       "GridSearchCV(cv=KFold(n_splits=5, random_state=1, shuffle=True),\n",
       "             estimator=DecisionTreeRegressor(min_samples_leaf=5,\n",
       "                                             min_samples_split=20,\n",
       "                                             random_state=88),\n",
       "             param_grid={'ccp_alpha': array([0.0e+00, 2.0e-05, 4.0e-05, 6.0e-05, 8.0e-05, 1.0e-04, 1.2e-04,\n",
       "       1.4e-04, 1.6e-04, 1.8e-04, 2.0e-04, 2.2e-04, 2.4e-04, 2.6e-04,\n",
       "       2.8e-04, 3.0e-04, 3.2e-04, 3.4e-04, 3.6e-04, 3.8e-04, 4.0e-04,\n",
       "       4.2e-04, 4.4e-04, 4.6e-04, 4.8e-04, 5.0e-04, 5.2e-04, 5.4e-04,\n",
       "       5.6e-04, 5.8e-04, 6.0e-04, 6.2e-04, 6.4e-04, 6.6e-04, 6.8e-04,\n",
       "       7.0e-04, 7.2e-04, 7.4e-04, 7.6e-04, 7.8e-04, 8.0e-04, 8.2e-04,\n",
       "       8.4e-04, 8.6e-04, 8.8e-04, 9.0e-04, 9.2e-04, 9.4e-04, 9.6e-04,\n",
       "       9.8e-04, 1.0e-03])},\n",
       "             scoring='r2')"
      ]
     },
     "execution_count": 5,
     "metadata": {},
     "output_type": "execute_result"
    }
   ],
   "source": [
    "from sklearn.model_selection import GridSearchCV\n",
    "from sklearn.tree import DecisionTreeRegressor\n",
    "from sklearn.model_selection import KFold\n",
    "\n",
    "grid_values_regression_tree = {'ccp_alpha': np.linspace(0, 0.001, 51)} # set 0.001 as the step size\n",
    "\n",
    "dtr_regression_tree = DecisionTreeRegressor(min_samples_leaf=5, min_samples_split=20, random_state=88)\n",
    "\n",
    "cv_regression_tree = KFold(n_splits=5,random_state=1,shuffle=True) \n",
    "\n",
    "dtr_cv_regression_tree = GridSearchCV(dtr_regression_tree, param_grid=grid_values_regression_tree, scoring='r2', cv=cv_regression_tree, verbose=0)\n",
    "\n",
    "dtr_cv_regression_tree.fit(X_train, y_train)"
   ]
  },
  {
   "cell_type": "code",
   "execution_count": 6,
   "metadata": {},
   "outputs": [
    {
     "data": {
      "image/png": "[encoded data removed]",
      "text/plain": [
       "<Figure size 576x432 with 1 Axes>"
      ]
     },
     "metadata": {
      "needs_background": "light"
     },
     "output_type": "display_data"
    }
   ],
   "source": [
    "import matplotlib.pyplot as plt\n",
    "\n",
    "ccp_alpha = dtr_cv_regression_tree.cv_results_['param_ccp_alpha'].data\n",
    "R2_scores = dtr_cv_regression_tree.cv_results_['mean_test_score']\n",
    "\n",
    "plt.figure(figsize=(8, 6))\n",
    "plt.xlabel('ccp_alpha', fontsize=16)\n",
    "plt.ylabel('CV R2', fontsize=16)\n",
    "plt.scatter(ccp_alpha, R2_scores, s=30)\n",
    "plt.plot(ccp_alpha, R2_scores, linewidth=3)\n",
    "plt.grid(True, which='both')\n",
    "\n",
    "plt.tight_layout()\n",
    "plt.show()"
   ]
  },
  {
   "cell_type": "code",
   "execution_count": 7,
   "metadata": {},
   "outputs": [
    {
     "name": "stdout",
     "output_type": "stream",
     "text": [
      "Best ccp_alpha {'ccp_alpha': 0.00092}\n"
     ]
    }
   ],
   "source": [
    "# Find the best ccp_alpha by searching for which ccp_alpha brings the max CV R2\n",
    "print('Best ccp_alpha', dtr_cv_regression_tree.best_params_)"
   ]
  },
  {
   "cell_type": "markdown",
   "metadata": {},
   "source": [
    "**iii) Using the test set data provided in the yelp142 test.csv file, compute the OSR2 values of your linear regression and regression tree models. Also, compute the MAE (mean absolute error) values of both models. How do you judge the performance of the two models?**\n",
    "\n",
    "The OSR2 is 0.180 and 0.178 for the OLS and the regression tree model; the MAE is 0.617 and 0.612 respectively. Overall, the performance of these two models are not satisfactory."
   ]
  },
  {
   "cell_type": "code",
   "execution_count": 8,
   "metadata": {
    "scrolled": true
   },
   "outputs": [
    {
     "data": {
      "text/plain": [
       "0.12520320053344702"
      ]
     },
     "execution_count": 8,
     "metadata": {},
     "output_type": "execute_result"
    }
   ],
   "source": [
    "# Regression tree\n",
    "def OSR2_1(model, X_test, y_test, y_train):\n",
    "    global y_pred_tree\n",
    "    y_pred_tree = model.predict(X_test)\n",
    "    SSE = np.sum((y_test - y_pred_tree)**2)\n",
    "    SST = np.sum((y_test - np.mean(y_train))**2)\n",
    "                 \n",
    "    return (1 - SSE/SST)\n",
    "OSR2_1(dtr_cv_regression_tree, X_test, y_test, y_train)"
   ]
  },
  {
   "cell_type": "code",
   "execution_count": 9,
   "metadata": {},
   "outputs": [
    {
     "data": {
      "text/plain": [
       "0.6131418824050957"
      ]
     },
     "execution_count": 9,
     "metadata": {},
     "output_type": "execute_result"
    }
   ],
   "source": [
    "# Regression tree MAE\n",
    "from sklearn.metrics import mean_absolute_error\n",
    "\n",
    "MAE_regression_tree = mean_absolute_error(y_test, dtr_cv_regression_tree.predict(X_test))\n",
    "MAE_regression_tree"
   ]
  },
  {
   "cell_type": "code",
   "execution_count": 10,
   "metadata": {},
   "outputs": [
    {
     "data": {
      "text/plain": [
       "0.18041519241200354"
      ]
     },
     "execution_count": 10,
     "metadata": {},
     "output_type": "execute_result"
    }
   ],
   "source": [
    "# Linear R2\n",
    "def OSR2_linear_reg(model, df_train, df_test, dependent_var):   \n",
    "    y_test = df_test[dependent_var]\n",
    "    y_pred = model.predict(df_test)\n",
    "    SSE = np.sum((y_test - y_pred)**2)\n",
    "    SST = np.sum((y_test - np.mean(df_train[dependent_var]))**2)    \n",
    "    return 1 - SSE/SST\n",
    "\n",
    "OSR2_linear_reg(model1, yelp_train, yelp_test, 'stars' )"
   ]
  },
  {
   "cell_type": "code",
   "execution_count": 11,
   "metadata": {},
   "outputs": [
    {
     "data": {
      "text/plain": [
       "0.6195764795429983"
      ]
     },
     "execution_count": 11,
     "metadata": {},
     "output_type": "execute_result"
    }
   ],
   "source": [
    "# Linear Reg MAE\n",
    "from sklearn.metrics import mean_absolute_error\n",
    "from sklearn.linear_model import LinearRegression\n",
    "\n",
    "linreg = LinearRegression()\n",
    "linreg.fit(X_train, y_train)\n",
    "y_pred = linreg.predict(X_test)\n",
    "MAE_linear_reg = mean_absolute_error(y_test, y_pred)\n",
    "MAE_linear_reg"
   ]
  },
  {
   "cell_type": "markdown",
   "metadata": {},
   "source": [
    "**c) (5 points) Regression may not be the most appropriate modeling technique for this data. In particular, it is plausible that restaurants may be mostly concerned with ensuring that their star rating is high enough and not particularly concerned with precisely predicting the value of this rating. Therefore, let us instead consider a classification problem where the goal is to predict if the star rating is greater than or equal to 4 or not.\n",
    "i) Construct a new variable in your training and test datasets called fourOrAbove. This variable should be equal to 1 if stars is greater than or equal to 4 and equal to 0 otherwise.**"
   ]
  },
  {
   "cell_type": "code",
   "execution_count": 12,
   "metadata": {},
   "outputs": [],
   "source": [
    "#linear regression\n",
    "\n",
    "fourOrAbove_train = [1 if i>= 4.0 else 0 for i in yelp_train['stars']]\n",
    "fourOrAbove_test = [1 if i>= 4.0 else 0 for i in yelp_test['stars']]\n",
    "yelp_4_train = yelp_train.copy(deep = True)\n",
    "yelp_4_test = yelp_test.copy(deep = True)\n",
    "yelp_4_train['fourOrAbove'] = fourOrAbove_train\n",
    "yelp_4_test['fourOrAbove'] = fourOrAbove_test\n",
    "yelp_4_train.drop(['stars'], axis = 1, inplace = True)\n",
    "yelp_4_test.drop(['stars'], axis = 1, inplace = True)"
   ]
  },
  {
   "cell_type": "code",
   "execution_count": 13,
   "metadata": {},
   "outputs": [
    {
     "data": {
      "text/html": [
       "<div>\n",
       "<style scoped>\n",
       "    .dataframe tbody tr th:only-of-type {\n",
       "        vertical-align: middle;\n",
       "    }\n",
       "\n",
       "    .dataframe tbody tr th {\n",
       "        vertical-align: top;\n",
       "    }\n",
       "\n",
       "    .dataframe thead th {\n",
       "        text-align: right;\n",
       "    }\n",
       "</style>\n",
       "<table border=\"1\" class=\"dataframe\">\n",
       "  <thead>\n",
       "    <tr style=\"text-align: right;\">\n",
       "      <th></th>\n",
       "      <th>review_count</th>\n",
       "      <th>GoodForKids</th>\n",
       "      <th>Alcohol</th>\n",
       "      <th>BusinessAcceptsCreditCards</th>\n",
       "      <th>WiFi</th>\n",
       "      <th>BikeParking</th>\n",
       "      <th>ByAppointmentOnly</th>\n",
       "      <th>WheelechairAccessible</th>\n",
       "      <th>OutdoorSeating</th>\n",
       "      <th>RestaurantsReservations</th>\n",
       "      <th>DogsAllowed</th>\n",
       "      <th>Caters</th>\n",
       "      <th>fourOrAbove</th>\n",
       "    </tr>\n",
       "  </thead>\n",
       "  <tbody>\n",
       "    <tr>\n",
       "      <th>0</th>\n",
       "      <td>26</td>\n",
       "      <td>(Missing)</td>\n",
       "      <td>(Missing)</td>\n",
       "      <td>TRUE</td>\n",
       "      <td>(Missing)</td>\n",
       "      <td>TRUE</td>\n",
       "      <td>(Missing)</td>\n",
       "      <td>(Missing)</td>\n",
       "      <td>(Missing)</td>\n",
       "      <td>(Missing)</td>\n",
       "      <td>(Missing)</td>\n",
       "      <td>(Missing)</td>\n",
       "      <td>0</td>\n",
       "    </tr>\n",
       "    <tr>\n",
       "      <th>1</th>\n",
       "      <td>40</td>\n",
       "      <td>TRUE</td>\n",
       "      <td>'full_bar'</td>\n",
       "      <td>TRUE</td>\n",
       "      <td>'free'</td>\n",
       "      <td>FALSE</td>\n",
       "      <td>(Missing)</td>\n",
       "      <td>(Missing)</td>\n",
       "      <td>TRUE</td>\n",
       "      <td>FALSE</td>\n",
       "      <td>(Missing)</td>\n",
       "      <td>(Missing)</td>\n",
       "      <td>0</td>\n",
       "    </tr>\n",
       "    <tr>\n",
       "      <th>2</th>\n",
       "      <td>45</td>\n",
       "      <td>TRUE</td>\n",
       "      <td>'full_bar'</td>\n",
       "      <td>TRUE</td>\n",
       "      <td>'free'</td>\n",
       "      <td>FALSE</td>\n",
       "      <td>(Missing)</td>\n",
       "      <td>(Missing)</td>\n",
       "      <td>TRUE</td>\n",
       "      <td>FALSE</td>\n",
       "      <td>(Missing)</td>\n",
       "      <td>(Missing)</td>\n",
       "      <td>1</td>\n",
       "    </tr>\n",
       "    <tr>\n",
       "      <th>3</th>\n",
       "      <td>61</td>\n",
       "      <td>TRUE</td>\n",
       "      <td>(Missing)</td>\n",
       "      <td>TRUE</td>\n",
       "      <td>(Missing)</td>\n",
       "      <td>(Missing)</td>\n",
       "      <td>(Missing)</td>\n",
       "      <td>(Missing)</td>\n",
       "      <td>FALSE</td>\n",
       "      <td>(Missing)</td>\n",
       "      <td>(Missing)</td>\n",
       "      <td>FALSE</td>\n",
       "      <td>1</td>\n",
       "    </tr>\n",
       "    <tr>\n",
       "      <th>4</th>\n",
       "      <td>5</td>\n",
       "      <td>TRUE</td>\n",
       "      <td>'beer_and_wine'</td>\n",
       "      <td>TRUE</td>\n",
       "      <td>(Missing)</td>\n",
       "      <td>(Missing)</td>\n",
       "      <td>(Missing)</td>\n",
       "      <td>(Missing)</td>\n",
       "      <td>FALSE</td>\n",
       "      <td>FALSE</td>\n",
       "      <td>(Missing)</td>\n",
       "      <td>(Missing)</td>\n",
       "      <td>0</td>\n",
       "    </tr>\n",
       "  </tbody>\n",
       "</table>\n",
       "</div>"
      ],
      "text/plain": [
       "   review_count GoodForKids          Alcohol BusinessAcceptsCreditCards  \\\n",
       "0            26   (Missing)        (Missing)                       TRUE   \n",
       "1            40        TRUE       'full_bar'                       TRUE   \n",
       "2            45        TRUE       'full_bar'                       TRUE   \n",
       "3            61        TRUE        (Missing)                       TRUE   \n",
       "4             5        TRUE  'beer_and_wine'                       TRUE   \n",
       "\n",
       "        WiFi BikeParking ByAppointmentOnly WheelechairAccessible  \\\n",
       "0  (Missing)        TRUE         (Missing)             (Missing)   \n",
       "1     'free'       FALSE         (Missing)             (Missing)   \n",
       "2     'free'       FALSE         (Missing)             (Missing)   \n",
       "3  (Missing)   (Missing)         (Missing)             (Missing)   \n",
       "4  (Missing)   (Missing)         (Missing)             (Missing)   \n",
       "\n",
       "  OutdoorSeating RestaurantsReservations DogsAllowed     Caters  fourOrAbove  \n",
       "0      (Missing)               (Missing)   (Missing)  (Missing)            0  \n",
       "1           TRUE                   FALSE   (Missing)  (Missing)            0  \n",
       "2           TRUE                   FALSE   (Missing)  (Missing)            1  \n",
       "3          FALSE               (Missing)   (Missing)      FALSE            1  \n",
       "4          FALSE                   FALSE   (Missing)  (Missing)            0  "
      ]
     },
     "execution_count": 13,
     "metadata": {},
     "output_type": "execute_result"
    }
   ],
   "source": [
    "yelp_4_train.head()\n"
   ]
  },
  {
   "cell_type": "code",
   "execution_count": 14,
   "metadata": {},
   "outputs": [
    {
     "data": {
      "text/html": [
       "<div>\n",
       "<style scoped>\n",
       "    .dataframe tbody tr th:only-of-type {\n",
       "        vertical-align: middle;\n",
       "    }\n",
       "\n",
       "    .dataframe tbody tr th {\n",
       "        vertical-align: top;\n",
       "    }\n",
       "\n",
       "    .dataframe thead th {\n",
       "        text-align: right;\n",
       "    }\n",
       "</style>\n",
       "<table border=\"1\" class=\"dataframe\">\n",
       "  <thead>\n",
       "    <tr style=\"text-align: right;\">\n",
       "      <th></th>\n",
       "      <th>review_count</th>\n",
       "      <th>GoodForKids</th>\n",
       "      <th>Alcohol</th>\n",
       "      <th>BusinessAcceptsCreditCards</th>\n",
       "      <th>WiFi</th>\n",
       "      <th>BikeParking</th>\n",
       "      <th>ByAppointmentOnly</th>\n",
       "      <th>WheelechairAccessible</th>\n",
       "      <th>OutdoorSeating</th>\n",
       "      <th>RestaurantsReservations</th>\n",
       "      <th>DogsAllowed</th>\n",
       "      <th>Caters</th>\n",
       "      <th>fourOrAbove</th>\n",
       "    </tr>\n",
       "  </thead>\n",
       "  <tbody>\n",
       "    <tr>\n",
       "      <th>0</th>\n",
       "      <td>11</td>\n",
       "      <td>(Missing)</td>\n",
       "      <td>(Missing)</td>\n",
       "      <td>TRUE</td>\n",
       "      <td>(Missing)</td>\n",
       "      <td>(Missing)</td>\n",
       "      <td>(Missing)</td>\n",
       "      <td>(Missing)</td>\n",
       "      <td>(Missing)</td>\n",
       "      <td>FALSE</td>\n",
       "      <td>(Missing)</td>\n",
       "      <td>(Missing)</td>\n",
       "      <td>1</td>\n",
       "    </tr>\n",
       "    <tr>\n",
       "      <th>1</th>\n",
       "      <td>82</td>\n",
       "      <td>TRUE</td>\n",
       "      <td>'none'</td>\n",
       "      <td>TRUE</td>\n",
       "      <td>'no'</td>\n",
       "      <td>TRUE</td>\n",
       "      <td>(Missing)</td>\n",
       "      <td>TRUE</td>\n",
       "      <td>FALSE</td>\n",
       "      <td>FALSE</td>\n",
       "      <td>(Missing)</td>\n",
       "      <td>TRUE</td>\n",
       "      <td>1</td>\n",
       "    </tr>\n",
       "    <tr>\n",
       "      <th>2</th>\n",
       "      <td>3</td>\n",
       "      <td>(Missing)</td>\n",
       "      <td>(Missing)</td>\n",
       "      <td>TRUE</td>\n",
       "      <td>'no'</td>\n",
       "      <td>TRUE</td>\n",
       "      <td>TRUE</td>\n",
       "      <td>TRUE</td>\n",
       "      <td>(Missing)</td>\n",
       "      <td>(Missing)</td>\n",
       "      <td>FALSE</td>\n",
       "      <td>(Missing)</td>\n",
       "      <td>1</td>\n",
       "    </tr>\n",
       "    <tr>\n",
       "      <th>3</th>\n",
       "      <td>141</td>\n",
       "      <td>TRUE</td>\n",
       "      <td>'none'</td>\n",
       "      <td>TRUE</td>\n",
       "      <td>'no'</td>\n",
       "      <td>FALSE</td>\n",
       "      <td>(Missing)</td>\n",
       "      <td>TRUE</td>\n",
       "      <td>FALSE</td>\n",
       "      <td>FALSE</td>\n",
       "      <td>(Missing)</td>\n",
       "      <td>TRUE</td>\n",
       "      <td>1</td>\n",
       "    </tr>\n",
       "    <tr>\n",
       "      <th>4</th>\n",
       "      <td>222</td>\n",
       "      <td>TRUE</td>\n",
       "      <td>'none'</td>\n",
       "      <td>TRUE</td>\n",
       "      <td>'free'</td>\n",
       "      <td>TRUE</td>\n",
       "      <td>FALSE</td>\n",
       "      <td>FALSE</td>\n",
       "      <td>FALSE</td>\n",
       "      <td>FALSE</td>\n",
       "      <td>FALSE</td>\n",
       "      <td>TRUE</td>\n",
       "      <td>1</td>\n",
       "    </tr>\n",
       "  </tbody>\n",
       "</table>\n",
       "</div>"
      ],
      "text/plain": [
       "   review_count GoodForKids    Alcohol BusinessAcceptsCreditCards       WiFi  \\\n",
       "0            11   (Missing)  (Missing)                       TRUE  (Missing)   \n",
       "1            82        TRUE     'none'                       TRUE       'no'   \n",
       "2             3   (Missing)  (Missing)                       TRUE       'no'   \n",
       "3           141        TRUE     'none'                       TRUE       'no'   \n",
       "4           222        TRUE     'none'                       TRUE     'free'   \n",
       "\n",
       "  BikeParking ByAppointmentOnly WheelechairAccessible OutdoorSeating  \\\n",
       "0   (Missing)         (Missing)             (Missing)      (Missing)   \n",
       "1        TRUE         (Missing)                  TRUE          FALSE   \n",
       "2        TRUE              TRUE                  TRUE      (Missing)   \n",
       "3       FALSE         (Missing)                  TRUE          FALSE   \n",
       "4        TRUE             FALSE                 FALSE          FALSE   \n",
       "\n",
       "  RestaurantsReservations DogsAllowed     Caters  fourOrAbove  \n",
       "0                   FALSE   (Missing)  (Missing)            1  \n",
       "1                   FALSE   (Missing)       TRUE            1  \n",
       "2               (Missing)       FALSE  (Missing)            1  \n",
       "3                   FALSE   (Missing)       TRUE            1  \n",
       "4                   FALSE       FALSE       TRUE            1  "
      ]
     },
     "execution_count": 14,
     "metadata": {},
     "output_type": "execute_result"
    }
   ],
   "source": [
    "yelp_4_test.head()"
   ]
  },
  {
   "cell_type": "markdown",
   "metadata": {},
   "source": [
    "\n",
    "**d) Let us now work on building classification models for predicting fourOrAbove based on all of the provided features listed in Table 1. All of your models should, of course, be built only using the training data provided in the yelp142 train.csv file.**"
   ]
  },
  {
   "cell_type": "markdown",
   "metadata": {},
   "source": [
    "**i) In this problem, we will weigh false positives and false negatives equally and therefore focus on accuracy (equivalently, error rate) as the primary performance metric. Do you think this modeling choice is reasonable or not? Explain your answer.**\n"
   ]
  },
  {
   "cell_type": "markdown",
   "metadata": {},
   "source": [
    "Answer: No, because different weight of FP and FN values have different impact on our prediction. When it comes to profit, if we equal weights on both FP and FN value, we could not penalize and boost the loss function towards the preferred class, thus we are not evaluating our model in a systemetic way.**"
   ]
  },
  {
   "cell_type": "markdown",
   "metadata": {},
   "source": [
    "**ii) A simple approach here is to use the previously built linear regression and regression tree models to address the classification task by thresholding their predictions at the value of 4. Write code for implementing this thresholding procedure for converting the predictions of your previously built regression models to predictions of fourOrAbove.**"
   ]
  },
  {
   "cell_type": "code",
   "execution_count": 15,
   "metadata": {},
   "outputs": [],
   "source": [
    "# Linear d2\n",
    "\n",
    "#linear_reg = {'star_predict_linear': y_pred}\n",
    "#linear_reg = pd.DataFrame(data = linear_reg)\n",
    "#linear_reg['fourOrAbove'] = np.where(linear_reg['star_predict_linear'] >= 4,1,0)\n",
    "#linear_reg.head(5)\n"
   ]
  },
  {
   "cell_type": "code",
   "execution_count": 16,
   "metadata": {},
   "outputs": [],
   "source": [
    "y_pred_ols = model1.predict(yelp_test.drop(['stars'], axis = 1))\n",
    "y_pred_ols_threshold = [1 if i >= 4.0 else 0 for i in y_pred_ols]\n",
    "\n",
    "y_pred_tree = dtr_cv_regression_tree.predict(X_test)\n",
    "y_pred_tree_threshold = [1 if i >= 4.0 else 0 for i in y_pred_tree]\n"
   ]
  },
  {
   "cell_type": "markdown",
   "metadata": {},
   "source": [
    "**iii) Now build a logistic regression model. Remember to use all of the provided independent variables, and you do not have to do variable selection in this problem. Please again use (Missing) as the reference level to be incorporated into the intercept term.**"
   ]
  },
  {
   "cell_type": "code",
   "execution_count": 17,
   "metadata": {},
   "outputs": [
    {
     "name": "stdout",
     "output_type": "stream",
     "text": [
      "Optimization terminated successfully.\n",
      "         Current function value: 0.608938\n",
      "         Iterations 6\n",
      "                           Logit Regression Results                           \n",
      "==============================================================================\n",
      "Dep. Variable:            fourOrAbove   No. Observations:                 6272\n",
      "Model:                          Logit   Df Residuals:                     6246\n",
      "Method:                           MLE   Df Model:                           25\n",
      "Date:                Thu, 22 Apr 2021   Pseudo R-squ.:                  0.1113\n",
      "Time:                        18:31:31   Log-Likelihood:                -3819.3\n",
      "converged:                       True   LL-Null:                       -4297.5\n",
      "Covariance Type:            nonrobust   LLR p-value:                9.494e-186\n",
      "============================================================================================================================================\n",
      "                                                                               coef    std err          z      P>|z|      [0.025      0.975]\n",
      "--------------------------------------------------------------------------------------------------------------------------------------------\n",
      "Intercept                                                                   -0.4090      0.104     -3.947      0.000      -0.612      -0.206\n",
      "C(GoodForKids, Treatment(reference=\"(Missing)\"))[T.FALSE]                    0.1374      0.128      1.071      0.284      -0.114       0.389\n",
      "C(GoodForKids, Treatment(reference=\"(Missing)\"))[T.TRUE]                    -0.2631      0.099     -2.665      0.008      -0.457      -0.070\n",
      "C(Alcohol, Treatment(reference=\"(Missing)\"))[T.'beer_and_wine']              0.0845      0.132      0.642      0.521      -0.174       0.343\n",
      "C(Alcohol, Treatment(reference=\"(Missing)\"))[T.'full_bar']                  -0.1999      0.124     -1.611      0.107      -0.443       0.043\n",
      "C(Alcohol, Treatment(reference=\"(Missing)\"))[T.'none']                       0.2606      0.111      2.357      0.018       0.044       0.477\n",
      "C(BusinessAcceptsCreditCards, Treatment(reference=\"(Missing)\"))[T.FALSE]     1.3953      0.258      5.399      0.000       0.889       1.902\n",
      "C(BusinessAcceptsCreditCards, Treatment(reference=\"(Missing)\"))[T.TRUE]      0.0506      0.123      0.411      0.681      -0.191       0.292\n",
      "C(WiFi, Treatment(reference=\"(Missing)\"))[T.'free']                          0.1685      0.096      1.751      0.080      -0.020       0.357\n",
      "C(WiFi, Treatment(reference=\"(Missing)\"))[T.'no']                            0.1303      0.094      1.388      0.165      -0.054       0.314\n",
      "C(WiFi, Treatment(reference=\"(Missing)\"))[T.'paid']                         -0.4987      0.345     -1.447      0.148      -1.174       0.177\n",
      "C(BikeParking, Treatment(reference=\"(Missing)\"))[T.FALSE]                   -0.3420      0.091     -3.748      0.000      -0.521      -0.163\n",
      "C(BikeParking, Treatment(reference=\"(Missing)\"))[T.TRUE]                    -0.1881      0.081     -2.335      0.020      -0.346      -0.030\n",
      "C(ByAppointmentOnly, Treatment(reference=\"(Missing)\"))[T.FALSE]              0.4978      0.096      5.164      0.000       0.309       0.687\n",
      "C(ByAppointmentOnly, Treatment(reference=\"(Missing)\"))[T.TRUE]               0.4966      0.319      1.556      0.120      -0.129       1.122\n",
      "C(WheelechairAccessible, Treatment(reference=\"(Missing)\"))[T.FALSE]          1.7634      0.299      5.894      0.000       1.177       2.350\n",
      "C(WheelechairAccessible, Treatment(reference=\"(Missing)\"))[T.TRUE]           1.0044      0.076     13.218      0.000       0.855       1.153\n",
      "C(OutdoorSeating, Treatment(reference=\"(Missing)\"))[T.FALSE]                -0.1398      0.110     -1.269      0.204      -0.356       0.076\n",
      "C(OutdoorSeating, Treatment(reference=\"(Missing)\"))[T.TRUE]                  0.0806      0.117      0.688      0.491      -0.149       0.310\n",
      "C(RestaurantsReservations, Treatment(reference=\"(Missing)\"))[T.FALSE]       -0.4166      0.113     -3.679      0.000      -0.639      -0.195\n",
      "C(RestaurantsReservations, Treatment(reference=\"(Missing)\"))[T.TRUE]        -0.0093      0.127     -0.073      0.941      -0.258       0.240\n",
      "C(DogsAllowed, Treatment(reference=\"(Missing)\"))[T.FALSE]                    0.6214      0.082      7.611      0.000       0.461       0.781\n",
      "C(DogsAllowed, Treatment(reference=\"(Missing)\"))[T.TRUE]                     0.3078      0.154      1.996      0.046       0.006       0.610\n",
      "C(Caters, Treatment(reference=\"(Missing)\"))[T.FALSE]                        -0.4001      0.086     -4.647      0.000      -0.569      -0.231\n",
      "C(Caters, Treatment(reference=\"(Missing)\"))[T.TRUE]                          0.0982      0.091      1.080      0.280      -0.080       0.276\n",
      "review_count                                                                 0.0006      0.000      5.907      0.000       0.000       0.001\n",
      "============================================================================================================================================\n"
     ]
    }
   ],
   "source": [
    "d3_logistic_regression_model = smf.logit(formula = 'fourOrAbove~ review_count + C(GoodForKids, Treatment(reference=\"(Missing)\")) + C(Alcohol, Treatment(reference=\"(Missing)\")) + C(BusinessAcceptsCreditCards, Treatment(reference=\"(Missing)\")) + C(WiFi, Treatment(reference=\"(Missing)\")) + C(BikeParking, Treatment(reference=\"(Missing)\")) + C(ByAppointmentOnly, Treatment(reference=\"(Missing)\")) + C(WheelechairAccessible, Treatment(reference=\"(Missing)\")) + C(OutdoorSeating, Treatment(reference=\"(Missing)\")) + C(RestaurantsReservations, Treatment(reference=\"(Missing)\")) + C(DogsAllowed, Treatment(reference=\"(Missing)\")) + C(Caters, Treatment(reference=\"(Missing)\"))',\n",
    "                                                   data = yelp_4_train).fit()\n",
    "\n",
    "print(d3_logistic_regression_model.summary())"
   ]
  },
  {
   "cell_type": "markdown",
   "metadata": {},
   "source": [
    "**iv) Now build a classification tree model (using an implementation of the CART algorithm). Select the complexity parameter (i.e., ccp alpha in sklearn) value for the tree through cross-validation, and explain how you did the cross-validation and how you selected the complexity parameter value.**"
   ]
  },
  {
   "cell_type": "code",
   "execution_count": 18,
   "metadata": {},
   "outputs": [],
   "source": [
    "yelp_train_d4 = pd.get_dummies(yelp_4_train, columns = ['GoodForKids', 'Alcohol', 'BusinessAcceptsCreditCards', 'WiFi',\n",
    "                                                      'BikeParking', 'ByAppointmentOnly', 'WheelechairAccessible', 'OutdoorSeating',\n",
    "                                                      'RestaurantsReservations', 'DogsAllowed', 'Caters'])\n",
    "\n",
    "yelp_test_d4 = pd.get_dummies(yelp_4_test, columns = ['GoodForKids', 'Alcohol', 'BusinessAcceptsCreditCards', 'WiFi',\n",
    "                                                      'BikeParking', 'ByAppointmentOnly', 'WheelechairAccessible', 'OutdoorSeating',\n",
    "                                                      'RestaurantsReservations', 'DogsAllowed', 'Caters'])\n"
   ]
  },
  {
   "cell_type": "code",
   "execution_count": 19,
   "metadata": {},
   "outputs": [],
   "source": [
    "x_train_d4 =pd.get_dummies(yelp_4_train.drop(['fourOrAbove'], axis = 1))\n",
    "x_test_d4 =pd.get_dummies(yelp_4_test.drop(['fourOrAbove'], axis = 1))\n",
    "y_train_d4 = yelp_4_train['fourOrAbove']\n",
    "y_test_d4 = yelp_4_test['fourOrAbove']\n"
   ]
  },
  {
   "cell_type": "code",
   "execution_count": 20,
   "metadata": {},
   "outputs": [
    {
     "data": {
      "text/plain": [
       "(6272, 36)"
      ]
     },
     "execution_count": 20,
     "metadata": {},
     "output_type": "execute_result"
    }
   ],
   "source": [
    "\n",
    "x_train_d4.shape\n"
   ]
  },
  {
   "cell_type": "code",
   "execution_count": 21,
   "metadata": {},
   "outputs": [
    {
     "data": {
      "text/plain": [
       "(2688, 36)"
      ]
     },
     "execution_count": 21,
     "metadata": {},
     "output_type": "execute_result"
    }
   ],
   "source": [
    "x_test_d4.shape"
   ]
  },
  {
   "cell_type": "code",
   "execution_count": 22,
   "metadata": {},
   "outputs": [
    {
     "data": {
      "text/html": [
       "<div>\n",
       "<style scoped>\n",
       "    .dataframe tbody tr th:only-of-type {\n",
       "        vertical-align: middle;\n",
       "    }\n",
       "\n",
       "    .dataframe tbody tr th {\n",
       "        vertical-align: top;\n",
       "    }\n",
       "\n",
       "    .dataframe thead th {\n",
       "        text-align: right;\n",
       "    }\n",
       "</style>\n",
       "<table border=\"1\" class=\"dataframe\">\n",
       "  <thead>\n",
       "    <tr style=\"text-align: right;\">\n",
       "      <th></th>\n",
       "      <th>review_count</th>\n",
       "      <th>GoodForKids_(Missing)</th>\n",
       "      <th>GoodForKids_FALSE</th>\n",
       "      <th>GoodForKids_TRUE</th>\n",
       "      <th>Alcohol_'beer_and_wine'</th>\n",
       "      <th>Alcohol_'full_bar'</th>\n",
       "      <th>Alcohol_'none'</th>\n",
       "      <th>Alcohol_(Missing)</th>\n",
       "      <th>BusinessAcceptsCreditCards_(Missing)</th>\n",
       "      <th>BusinessAcceptsCreditCards_FALSE</th>\n",
       "      <th>...</th>\n",
       "      <th>OutdoorSeating_TRUE</th>\n",
       "      <th>RestaurantsReservations_(Missing)</th>\n",
       "      <th>RestaurantsReservations_FALSE</th>\n",
       "      <th>RestaurantsReservations_TRUE</th>\n",
       "      <th>DogsAllowed_(Missing)</th>\n",
       "      <th>DogsAllowed_FALSE</th>\n",
       "      <th>DogsAllowed_TRUE</th>\n",
       "      <th>Caters_(Missing)</th>\n",
       "      <th>Caters_FALSE</th>\n",
       "      <th>Caters_TRUE</th>\n",
       "    </tr>\n",
       "  </thead>\n",
       "  <tbody>\n",
       "    <tr>\n",
       "      <th>0</th>\n",
       "      <td>26</td>\n",
       "      <td>1</td>\n",
       "      <td>0</td>\n",
       "      <td>0</td>\n",
       "      <td>0</td>\n",
       "      <td>0</td>\n",
       "      <td>0</td>\n",
       "      <td>1</td>\n",
       "      <td>0</td>\n",
       "      <td>0</td>\n",
       "      <td>...</td>\n",
       "      <td>0</td>\n",
       "      <td>1</td>\n",
       "      <td>0</td>\n",
       "      <td>0</td>\n",
       "      <td>1</td>\n",
       "      <td>0</td>\n",
       "      <td>0</td>\n",
       "      <td>1</td>\n",
       "      <td>0</td>\n",
       "      <td>0</td>\n",
       "    </tr>\n",
       "    <tr>\n",
       "      <th>1</th>\n",
       "      <td>40</td>\n",
       "      <td>0</td>\n",
       "      <td>0</td>\n",
       "      <td>1</td>\n",
       "      <td>0</td>\n",
       "      <td>1</td>\n",
       "      <td>0</td>\n",
       "      <td>0</td>\n",
       "      <td>0</td>\n",
       "      <td>0</td>\n",
       "      <td>...</td>\n",
       "      <td>1</td>\n",
       "      <td>0</td>\n",
       "      <td>1</td>\n",
       "      <td>0</td>\n",
       "      <td>1</td>\n",
       "      <td>0</td>\n",
       "      <td>0</td>\n",
       "      <td>1</td>\n",
       "      <td>0</td>\n",
       "      <td>0</td>\n",
       "    </tr>\n",
       "    <tr>\n",
       "      <th>2</th>\n",
       "      <td>45</td>\n",
       "      <td>0</td>\n",
       "      <td>0</td>\n",
       "      <td>1</td>\n",
       "      <td>0</td>\n",
       "      <td>1</td>\n",
       "      <td>0</td>\n",
       "      <td>0</td>\n",
       "      <td>0</td>\n",
       "      <td>0</td>\n",
       "      <td>...</td>\n",
       "      <td>1</td>\n",
       "      <td>0</td>\n",
       "      <td>1</td>\n",
       "      <td>0</td>\n",
       "      <td>1</td>\n",
       "      <td>0</td>\n",
       "      <td>0</td>\n",
       "      <td>1</td>\n",
       "      <td>0</td>\n",
       "      <td>0</td>\n",
       "    </tr>\n",
       "    <tr>\n",
       "      <th>3</th>\n",
       "      <td>61</td>\n",
       "      <td>0</td>\n",
       "      <td>0</td>\n",
       "      <td>1</td>\n",
       "      <td>0</td>\n",
       "      <td>0</td>\n",
       "      <td>0</td>\n",
       "      <td>1</td>\n",
       "      <td>0</td>\n",
       "      <td>0</td>\n",
       "      <td>...</td>\n",
       "      <td>0</td>\n",
       "      <td>1</td>\n",
       "      <td>0</td>\n",
       "      <td>0</td>\n",
       "      <td>1</td>\n",
       "      <td>0</td>\n",
       "      <td>0</td>\n",
       "      <td>0</td>\n",
       "      <td>1</td>\n",
       "      <td>0</td>\n",
       "    </tr>\n",
       "    <tr>\n",
       "      <th>4</th>\n",
       "      <td>5</td>\n",
       "      <td>0</td>\n",
       "      <td>0</td>\n",
       "      <td>1</td>\n",
       "      <td>1</td>\n",
       "      <td>0</td>\n",
       "      <td>0</td>\n",
       "      <td>0</td>\n",
       "      <td>0</td>\n",
       "      <td>0</td>\n",
       "      <td>...</td>\n",
       "      <td>0</td>\n",
       "      <td>0</td>\n",
       "      <td>1</td>\n",
       "      <td>0</td>\n",
       "      <td>1</td>\n",
       "      <td>0</td>\n",
       "      <td>0</td>\n",
       "      <td>1</td>\n",
       "      <td>0</td>\n",
       "      <td>0</td>\n",
       "    </tr>\n",
       "  </tbody>\n",
       "</table>\n",
       "<p>5 rows × 36 columns</p>\n",
       "</div>"
      ],
      "text/plain": [
       "   review_count  GoodForKids_(Missing)  GoodForKids_FALSE  GoodForKids_TRUE  \\\n",
       "0            26                      1                  0                 0   \n",
       "1            40                      0                  0                 1   \n",
       "2            45                      0                  0                 1   \n",
       "3            61                      0                  0                 1   \n",
       "4             5                      0                  0                 1   \n",
       "\n",
       "   Alcohol_'beer_and_wine'  Alcohol_'full_bar'  Alcohol_'none'  \\\n",
       "0                        0                   0               0   \n",
       "1                        0                   1               0   \n",
       "2                        0                   1               0   \n",
       "3                        0                   0               0   \n",
       "4                        1                   0               0   \n",
       "\n",
       "   Alcohol_(Missing)  BusinessAcceptsCreditCards_(Missing)  \\\n",
       "0                  1                                     0   \n",
       "1                  0                                     0   \n",
       "2                  0                                     0   \n",
       "3                  1                                     0   \n",
       "4                  0                                     0   \n",
       "\n",
       "   BusinessAcceptsCreditCards_FALSE  ...  OutdoorSeating_TRUE  \\\n",
       "0                                 0  ...                    0   \n",
       "1                                 0  ...                    1   \n",
       "2                                 0  ...                    1   \n",
       "3                                 0  ...                    0   \n",
       "4                                 0  ...                    0   \n",
       "\n",
       "   RestaurantsReservations_(Missing)  RestaurantsReservations_FALSE  \\\n",
       "0                                  1                              0   \n",
       "1                                  0                              1   \n",
       "2                                  0                              1   \n",
       "3                                  1                              0   \n",
       "4                                  0                              1   \n",
       "\n",
       "   RestaurantsReservations_TRUE  DogsAllowed_(Missing)  DogsAllowed_FALSE  \\\n",
       "0                             0                      1                  0   \n",
       "1                             0                      1                  0   \n",
       "2                             0                      1                  0   \n",
       "3                             0                      1                  0   \n",
       "4                             0                      1                  0   \n",
       "\n",
       "   DogsAllowed_TRUE  Caters_(Missing)  Caters_FALSE  Caters_TRUE  \n",
       "0                 0                 1             0            0  \n",
       "1                 0                 1             0            0  \n",
       "2                 0                 1             0            0  \n",
       "3                 0                 0             1            0  \n",
       "4                 0                 1             0            0  \n",
       "\n",
       "[5 rows x 36 columns]"
      ]
     },
     "execution_count": 22,
     "metadata": {},
     "output_type": "execute_result"
    }
   ],
   "source": [
    "x_train_d4.head(5)"
   ]
  },
  {
   "cell_type": "code",
   "execution_count": 23,
   "metadata": {},
   "outputs": [],
   "source": [
    "from sklearn.model_selection import train_test_split\n",
    "from sklearn.tree import DecisionTreeClassifier\n",
    "\n",
    "dtc = DecisionTreeClassifier(min_samples_leaf=5, \n",
    "                             ccp_alpha=0.003,\n",
    "                             random_state = 88)\n",
    "\n",
    "dtc = dtc.fit(x_train_d4, y_train_d4)"
   ]
  },
  {
   "cell_type": "code",
   "execution_count": 24,
   "metadata": {},
   "outputs": [
    {
     "name": "stdout",
     "output_type": "stream",
     "text": [
      "Node count = 9\n"
     ]
    },
    {
     "data": {
      "image/png": "[encoded data removed]",
      "text/plain": [
       "<Figure size 864x864 with 1 Axes>"
      ]
     },
     "metadata": {
      "needs_background": "light"
     },
     "output_type": "display_data"
    }
   ],
   "source": [
    "import matplotlib.pyplot as plt\n",
    "from sklearn.tree import plot_tree\n",
    "\n",
    "print('Node count =', dtc.tree_.node_count)\n",
    "plt.figure(figsize=(12,12))\n",
    "plot_tree(dtc, \n",
    "          feature_names=X_train.columns, \n",
    "          class_names=['0','1'], \n",
    "          filled=True,\n",
    "          impurity=True,\n",
    "          rounded=True,\n",
    "          fontsize=12) \n",
    "plt.show()"
   ]
  },
  {
   "cell_type": "markdown",
   "metadata": {},
   "source": [
    "**iv)explain how you did the cross-validation and how you selected the complexity parameter value.**\n",
    "\n",
    "Answer: \n",
    "We first do the data cleaning part, drop unecessary columns and keep all necessary 36 columns to predict fourOrAbove. \n",
    "In order to select the best ccp_alpha, I tried a few different values. When ccp_alpha = 0.01 there are only 3 nodes and all 3 nodes are biased toward 0. When ccp_alpha = 0.0001, there are 1035 tree nodes which means we are overfitting the model. Then I have a ideal range where alpha should between 0.01 and 0.0001. I tried ccp_alpha = 0.005 and ccp_alpha = 0.003. It turns out that 0.003 is better than 0.005 where we make sure the model is not overfitting while less-biased at the same time."
   ]
  },
  {
   "cell_type": "markdown",
   "metadata": {},
   "source": [
    "**v)Now build a model using “vanilla” bagging of CART models. This can be achieved, for example, by setting m (i.e., max features in sklearn) equal to the total number of features when training a Random Forest model.**"
   ]
  },
  {
   "cell_type": "markdown",
   "metadata": {},
   "source": [
    "- Vanilla Bagging"
   ]
  },
  {
   "cell_type": "code",
   "execution_count": 26,
   "metadata": {},
   "outputs": [
    {
     "data": {
      "text/plain": [
       "((4390, 36), (1882, 36))"
      ]
     },
     "execution_count": 26,
     "metadata": {},
     "output_type": "execute_result"
    }
   ],
   "source": [
    "from sklearn.model_selection import train_test_split\n",
    "\n",
    "y = yelp_4_train['fourOrAbove']\n",
    "X = pd.get_dummies(yelp_4_train.drop(['fourOrAbove'], axis=1))\n",
    "\n",
    "X_train, X_test, y_train, y_test = train_test_split(X, y, test_size=0.3, random_state=88)\n",
    "X_train.shape, X_test.shape"
   ]
  },
  {
   "cell_type": "code",
   "execution_count": 27,
   "metadata": {
    "scrolled": true
   },
   "outputs": [
    {
     "data": {
      "text/plain": [
       "13"
      ]
     },
     "execution_count": 27,
     "metadata": {},
     "output_type": "execute_result"
    }
   ],
   "source": [
    "len(yelp_train.columns)"
   ]
  },
  {
   "cell_type": "code",
   "execution_count": 28,
   "metadata": {},
   "outputs": [
    {
     "name": "stderr",
     "output_type": "stream",
     "text": [
      "[Parallel(n_jobs=1)]: Using backend SequentialBackend with 1 concurrent workers.\n",
      "[Parallel(n_jobs=1)]: Done 500 out of 500 | elapsed:    2.4s finished\n"
     ]
    },
    {
     "data": {
      "text/plain": [
       "RandomForestClassifier(max_features=14, min_samples_leaf=5, n_estimators=500,\n",
       "                       random_state=88, verbose=1)"
      ]
     },
     "execution_count": 28,
     "metadata": {},
     "output_type": "execute_result"
    }
   ],
   "source": [
    "from sklearn.ensemble import RandomForestClassifier\n",
    "\n",
    "rf_vanilla = RandomForestClassifier(n_estimators = 500, min_samples_leaf=5, max_features=14, \n",
    "                                    random_state=88, verbose=1)\n",
    "rf_vanilla.fit(X_train, y_train)"
   ]
  },
  {
   "cell_type": "markdown",
   "metadata": {},
   "source": [
    "**vi) Now build a Random Forest model, and this time use cross-validation to select the m value for the Random Forests method. Explain how you did the cross validation and how you selected the value of m.**"
   ]
  },
  {
   "cell_type": "code",
   "execution_count": 29,
   "metadata": {},
   "outputs": [
    {
     "name": "stderr",
     "output_type": "stream",
     "text": [
      "[Parallel(n_jobs=1)]: Using backend SequentialBackend with 1 concurrent workers.\n"
     ]
    },
    {
     "name": "stdout",
     "output_type": "stream",
     "text": [
      "Fitting 5 folds for each of 18 candidates, totalling 90 fits\n",
      "[CV] max_features=1, min_samples_leaf=5, n_estimators=500, random_state=88 \n",
      "[CV]  max_features=1, min_samples_leaf=5, n_estimators=500, random_state=88, total=   1.0s\n",
      "[CV] max_features=1, min_samples_leaf=5, n_estimators=500, random_state=88 \n"
     ]
    },
    {
     "name": "stderr",
     "output_type": "stream",
     "text": [
      "[Parallel(n_jobs=1)]: Done   1 out of   1 | elapsed:    1.0s remaining:    0.0s\n"
     ]
    },
    {
     "name": "stdout",
     "output_type": "stream",
     "text": [
      "[CV]  max_features=1, min_samples_leaf=5, n_estimators=500, random_state=88, total=   1.1s\n",
      "[CV] max_features=1, min_samples_leaf=5, n_estimators=500, random_state=88 \n",
      "[CV]  max_features=1, min_samples_leaf=5, n_estimators=500, random_state=88, total=   0.9s\n",
      "[CV] max_features=1, min_samples_leaf=5, n_estimators=500, random_state=88 \n",
      "[CV]  max_features=1, min_samples_leaf=5, n_estimators=500, random_state=88, total=   1.0s\n",
      "[CV] max_features=1, min_samples_leaf=5, n_estimators=500, random_state=88 \n",
      "[CV]  max_features=1, min_samples_leaf=5, n_estimators=500, random_state=88, total=   1.0s\n",
      "[CV] max_features=2, min_samples_leaf=5, n_estimators=500, random_state=88 \n",
      "[CV]  max_features=2, min_samples_leaf=5, n_estimators=500, random_state=88, total=   1.3s\n",
      "[CV] max_features=2, min_samples_leaf=5, n_estimators=500, random_state=88 \n",
      "[CV]  max_features=2, min_samples_leaf=5, n_estimators=500, random_state=88, total=   1.3s\n",
      "[CV] max_features=2, min_samples_leaf=5, n_estimators=500, random_state=88 \n",
      "[CV]  max_features=2, min_samples_leaf=5, n_estimators=500, random_state=88, total=   1.1s\n",
      "[CV] max_features=2, min_samples_leaf=5, n_estimators=500, random_state=88 \n",
      "[CV]  max_features=2, min_samples_leaf=5, n_estimators=500, random_state=88, total=   1.1s\n",
      "[CV] max_features=2, min_samples_leaf=5, n_estimators=500, random_state=88 \n",
      "[CV]  max_features=2, min_samples_leaf=5, n_estimators=500, random_state=88, total=   1.0s\n",
      "[CV] max_features=3, min_samples_leaf=5, n_estimators=500, random_state=88 \n",
      "[CV]  max_features=3, min_samples_leaf=5, n_estimators=500, random_state=88, total=   1.1s\n",
      "[CV] max_features=3, min_samples_leaf=5, n_estimators=500, random_state=88 \n",
      "[CV]  max_features=3, min_samples_leaf=5, n_estimators=500, random_state=88, total=   1.1s\n",
      "[CV] max_features=3, min_samples_leaf=5, n_estimators=500, random_state=88 \n",
      "[CV]  max_features=3, min_samples_leaf=5, n_estimators=500, random_state=88, total=   1.0s\n",
      "[CV] max_features=3, min_samples_leaf=5, n_estimators=500, random_state=88 \n",
      "[CV]  max_features=3, min_samples_leaf=5, n_estimators=500, random_state=88, total=   1.1s\n",
      "[CV] max_features=3, min_samples_leaf=5, n_estimators=500, random_state=88 \n",
      "[CV]  max_features=3, min_samples_leaf=5, n_estimators=500, random_state=88, total=   1.1s\n",
      "[CV] max_features=4, min_samples_leaf=5, n_estimators=500, random_state=88 \n",
      "[CV]  max_features=4, min_samples_leaf=5, n_estimators=500, random_state=88, total=   1.2s\n",
      "[CV] max_features=4, min_samples_leaf=5, n_estimators=500, random_state=88 \n",
      "[CV]  max_features=4, min_samples_leaf=5, n_estimators=500, random_state=88, total=   1.3s\n",
      "[CV] max_features=4, min_samples_leaf=5, n_estimators=500, random_state=88 \n",
      "[CV]  max_features=4, min_samples_leaf=5, n_estimators=500, random_state=88, total=   1.3s\n",
      "[CV] max_features=4, min_samples_leaf=5, n_estimators=500, random_state=88 \n",
      "[CV]  max_features=4, min_samples_leaf=5, n_estimators=500, random_state=88, total=   1.2s\n",
      "[CV] max_features=4, min_samples_leaf=5, n_estimators=500, random_state=88 \n",
      "[CV]  max_features=4, min_samples_leaf=5, n_estimators=500, random_state=88, total=   1.3s\n",
      "[CV] max_features=5, min_samples_leaf=5, n_estimators=500, random_state=88 \n",
      "[CV]  max_features=5, min_samples_leaf=5, n_estimators=500, random_state=88, total=   1.5s\n",
      "[CV] max_features=5, min_samples_leaf=5, n_estimators=500, random_state=88 \n",
      "[CV]  max_features=5, min_samples_leaf=5, n_estimators=500, random_state=88, total=   1.4s\n",
      "[CV] max_features=5, min_samples_leaf=5, n_estimators=500, random_state=88 \n",
      "[CV]  max_features=5, min_samples_leaf=5, n_estimators=500, random_state=88, total=   1.4s\n",
      "[CV] max_features=5, min_samples_leaf=5, n_estimators=500, random_state=88 \n",
      "[CV]  max_features=5, min_samples_leaf=5, n_estimators=500, random_state=88, total=   1.7s\n",
      "[CV] max_features=5, min_samples_leaf=5, n_estimators=500, random_state=88 \n",
      "[CV]  max_features=5, min_samples_leaf=5, n_estimators=500, random_state=88, total=   1.7s\n",
      "[CV] max_features=6, min_samples_leaf=5, n_estimators=500, random_state=88 \n",
      "[CV]  max_features=6, min_samples_leaf=5, n_estimators=500, random_state=88, total=   1.7s\n",
      "[CV] max_features=6, min_samples_leaf=5, n_estimators=500, random_state=88 \n",
      "[CV]  max_features=6, min_samples_leaf=5, n_estimators=500, random_state=88, total=   2.8s\n",
      "[CV] max_features=6, min_samples_leaf=5, n_estimators=500, random_state=88 \n",
      "[CV]  max_features=6, min_samples_leaf=5, n_estimators=500, random_state=88, total=   2.3s\n",
      "[CV] max_features=6, min_samples_leaf=5, n_estimators=500, random_state=88 \n",
      "[CV]  max_features=6, min_samples_leaf=5, n_estimators=500, random_state=88, total=   2.2s\n",
      "[CV] max_features=6, min_samples_leaf=5, n_estimators=500, random_state=88 \n",
      "[CV]  max_features=6, min_samples_leaf=5, n_estimators=500, random_state=88, total=   1.8s\n",
      "[CV] max_features=7, min_samples_leaf=5, n_estimators=500, random_state=88 \n",
      "[CV]  max_features=7, min_samples_leaf=5, n_estimators=500, random_state=88, total=   1.6s\n",
      "[CV] max_features=7, min_samples_leaf=5, n_estimators=500, random_state=88 \n",
      "[CV]  max_features=7, min_samples_leaf=5, n_estimators=500, random_state=88, total=   1.6s\n",
      "[CV] max_features=7, min_samples_leaf=5, n_estimators=500, random_state=88 \n",
      "[CV]  max_features=7, min_samples_leaf=5, n_estimators=500, random_state=88, total=   1.7s\n",
      "[CV] max_features=7, min_samples_leaf=5, n_estimators=500, random_state=88 \n",
      "[CV]  max_features=7, min_samples_leaf=5, n_estimators=500, random_state=88, total=   1.6s\n",
      "[CV] max_features=7, min_samples_leaf=5, n_estimators=500, random_state=88 \n",
      "[CV]  max_features=7, min_samples_leaf=5, n_estimators=500, random_state=88, total=   1.7s\n",
      "[CV] max_features=8, min_samples_leaf=5, n_estimators=500, random_state=88 \n",
      "[CV]  max_features=8, min_samples_leaf=5, n_estimators=500, random_state=88, total=   1.7s\n",
      "[CV] max_features=8, min_samples_leaf=5, n_estimators=500, random_state=88 \n",
      "[CV]  max_features=8, min_samples_leaf=5, n_estimators=500, random_state=88, total=   1.6s\n",
      "[CV] max_features=8, min_samples_leaf=5, n_estimators=500, random_state=88 \n",
      "[CV]  max_features=8, min_samples_leaf=5, n_estimators=500, random_state=88, total=   1.5s\n",
      "[CV] max_features=8, min_samples_leaf=5, n_estimators=500, random_state=88 \n",
      "[CV]  max_features=8, min_samples_leaf=5, n_estimators=500, random_state=88, total=   1.6s\n",
      "[CV] max_features=8, min_samples_leaf=5, n_estimators=500, random_state=88 \n",
      "[CV]  max_features=8, min_samples_leaf=5, n_estimators=500, random_state=88, total=   1.5s\n",
      "[CV] max_features=9, min_samples_leaf=5, n_estimators=500, random_state=88 \n",
      "[CV]  max_features=9, min_samples_leaf=5, n_estimators=500, random_state=88, total=   1.6s\n",
      "[CV] max_features=9, min_samples_leaf=5, n_estimators=500, random_state=88 \n",
      "[CV]  max_features=9, min_samples_leaf=5, n_estimators=500, random_state=88, total=   1.9s\n",
      "[CV] max_features=9, min_samples_leaf=5, n_estimators=500, random_state=88 \n",
      "[CV]  max_features=9, min_samples_leaf=5, n_estimators=500, random_state=88, total=   1.7s\n",
      "[CV] max_features=9, min_samples_leaf=5, n_estimators=500, random_state=88 \n",
      "[CV]  max_features=9, min_samples_leaf=5, n_estimators=500, random_state=88, total=   1.8s\n",
      "[CV] max_features=9, min_samples_leaf=5, n_estimators=500, random_state=88 \n",
      "[CV]  max_features=9, min_samples_leaf=5, n_estimators=500, random_state=88, total=   2.2s\n",
      "[CV] max_features=10, min_samples_leaf=5, n_estimators=500, random_state=88 \n",
      "[CV]  max_features=10, min_samples_leaf=5, n_estimators=500, random_state=88, total=   2.1s\n",
      "[CV] max_features=10, min_samples_leaf=5, n_estimators=500, random_state=88 \n",
      "[CV]  max_features=10, min_samples_leaf=5, n_estimators=500, random_state=88, total=   2.1s\n",
      "[CV] max_features=10, min_samples_leaf=5, n_estimators=500, random_state=88 \n",
      "[CV]  max_features=10, min_samples_leaf=5, n_estimators=500, random_state=88, total=   1.8s\n",
      "[CV] max_features=10, min_samples_leaf=5, n_estimators=500, random_state=88 \n",
      "[CV]  max_features=10, min_samples_leaf=5, n_estimators=500, random_state=88, total=   2.3s\n",
      "[CV] max_features=10, min_samples_leaf=5, n_estimators=500, random_state=88 \n",
      "[CV]  max_features=10, min_samples_leaf=5, n_estimators=500, random_state=88, total=   3.5s\n",
      "[CV] max_features=11, min_samples_leaf=5, n_estimators=500, random_state=88 \n",
      "[CV]  max_features=11, min_samples_leaf=5, n_estimators=500, random_state=88, total=   2.5s\n",
      "[CV] max_features=11, min_samples_leaf=5, n_estimators=500, random_state=88 \n",
      "[CV]  max_features=11, min_samples_leaf=5, n_estimators=500, random_state=88, total=   2.0s\n",
      "[CV] max_features=11, min_samples_leaf=5, n_estimators=500, random_state=88 \n",
      "[CV]  max_features=11, min_samples_leaf=5, n_estimators=500, random_state=88, total=   2.7s\n",
      "[CV] max_features=11, min_samples_leaf=5, n_estimators=500, random_state=88 \n",
      "[CV]  max_features=11, min_samples_leaf=5, n_estimators=500, random_state=88, total=   2.5s\n",
      "[CV] max_features=11, min_samples_leaf=5, n_estimators=500, random_state=88 \n",
      "[CV]  max_features=11, min_samples_leaf=5, n_estimators=500, random_state=88, total=   2.2s\n",
      "[CV] max_features=12, min_samples_leaf=5, n_estimators=500, random_state=88 \n",
      "[CV]  max_features=12, min_samples_leaf=5, n_estimators=500, random_state=88, total=   2.1s\n",
      "[CV] max_features=12, min_samples_leaf=5, n_estimators=500, random_state=88 \n",
      "[CV]  max_features=12, min_samples_leaf=5, n_estimators=500, random_state=88, total=   2.4s\n",
      "[CV] max_features=12, min_samples_leaf=5, n_estimators=500, random_state=88 \n",
      "[CV]  max_features=12, min_samples_leaf=5, n_estimators=500, random_state=88, total=   2.6s\n",
      "[CV] max_features=12, min_samples_leaf=5, n_estimators=500, random_state=88 \n",
      "[CV]  max_features=12, min_samples_leaf=5, n_estimators=500, random_state=88, total=   2.4s\n",
      "[CV] max_features=12, min_samples_leaf=5, n_estimators=500, random_state=88 \n",
      "[CV]  max_features=12, min_samples_leaf=5, n_estimators=500, random_state=88, total=   2.3s\n",
      "[CV] max_features=13, min_samples_leaf=5, n_estimators=500, random_state=88 \n",
      "[CV]  max_features=13, min_samples_leaf=5, n_estimators=500, random_state=88, total=   2.0s\n",
      "[CV] max_features=13, min_samples_leaf=5, n_estimators=500, random_state=88 \n",
      "[CV]  max_features=13, min_samples_leaf=5, n_estimators=500, random_state=88, total=   2.2s\n",
      "[CV] max_features=13, min_samples_leaf=5, n_estimators=500, random_state=88 \n",
      "[CV]  max_features=13, min_samples_leaf=5, n_estimators=500, random_state=88, total=   2.1s\n",
      "[CV] max_features=13, min_samples_leaf=5, n_estimators=500, random_state=88 \n",
      "[CV]  max_features=13, min_samples_leaf=5, n_estimators=500, random_state=88, total=   2.1s\n",
      "[CV] max_features=13, min_samples_leaf=5, n_estimators=500, random_state=88 \n",
      "[CV]  max_features=13, min_samples_leaf=5, n_estimators=500, random_state=88, total=   2.5s\n",
      "[CV] max_features=14, min_samples_leaf=5, n_estimators=500, random_state=88 \n",
      "[CV]  max_features=14, min_samples_leaf=5, n_estimators=500, random_state=88, total=   2.2s\n",
      "[CV] max_features=14, min_samples_leaf=5, n_estimators=500, random_state=88 \n",
      "[CV]  max_features=14, min_samples_leaf=5, n_estimators=500, random_state=88, total=   2.5s\n",
      "[CV] max_features=14, min_samples_leaf=5, n_estimators=500, random_state=88 \n",
      "[CV]  max_features=14, min_samples_leaf=5, n_estimators=500, random_state=88, total=   2.2s\n",
      "[CV] max_features=14, min_samples_leaf=5, n_estimators=500, random_state=88 \n",
      "[CV]  max_features=14, min_samples_leaf=5, n_estimators=500, random_state=88, total=   2.3s\n",
      "[CV] max_features=14, min_samples_leaf=5, n_estimators=500, random_state=88 \n",
      "[CV]  max_features=14, min_samples_leaf=5, n_estimators=500, random_state=88, total=   2.3s\n",
      "[CV] max_features=15, min_samples_leaf=5, n_estimators=500, random_state=88 \n",
      "[CV]  max_features=15, min_samples_leaf=5, n_estimators=500, random_state=88, total=   2.5s\n",
      "[CV] max_features=15, min_samples_leaf=5, n_estimators=500, random_state=88 \n",
      "[CV]  max_features=15, min_samples_leaf=5, n_estimators=500, random_state=88, total=   2.3s\n",
      "[CV] max_features=15, min_samples_leaf=5, n_estimators=500, random_state=88 \n",
      "[CV]  max_features=15, min_samples_leaf=5, n_estimators=500, random_state=88, total=   2.3s\n",
      "[CV] max_features=15, min_samples_leaf=5, n_estimators=500, random_state=88 \n",
      "[CV]  max_features=15, min_samples_leaf=5, n_estimators=500, random_state=88, total=   2.2s\n",
      "[CV] max_features=15, min_samples_leaf=5, n_estimators=500, random_state=88 \n",
      "[CV]  max_features=15, min_samples_leaf=5, n_estimators=500, random_state=88, total=   2.3s\n",
      "[CV] max_features=16, min_samples_leaf=5, n_estimators=500, random_state=88 \n",
      "[CV]  max_features=16, min_samples_leaf=5, n_estimators=500, random_state=88, total=   2.5s\n",
      "[CV] max_features=16, min_samples_leaf=5, n_estimators=500, random_state=88 \n",
      "[CV]  max_features=16, min_samples_leaf=5, n_estimators=500, random_state=88, total=   2.4s\n",
      "[CV] max_features=16, min_samples_leaf=5, n_estimators=500, random_state=88 \n",
      "[CV]  max_features=16, min_samples_leaf=5, n_estimators=500, random_state=88, total=   2.5s\n",
      "[CV] max_features=16, min_samples_leaf=5, n_estimators=500, random_state=88 \n",
      "[CV]  max_features=16, min_samples_leaf=5, n_estimators=500, random_state=88, total=   2.4s\n",
      "[CV] max_features=16, min_samples_leaf=5, n_estimators=500, random_state=88 \n",
      "[CV]  max_features=16, min_samples_leaf=5, n_estimators=500, random_state=88, total=   2.3s\n",
      "[CV] max_features=17, min_samples_leaf=5, n_estimators=500, random_state=88 \n",
      "[CV]  max_features=17, min_samples_leaf=5, n_estimators=500, random_state=88, total=   2.4s\n",
      "[CV] max_features=17, min_samples_leaf=5, n_estimators=500, random_state=88 \n",
      "[CV]  max_features=17, min_samples_leaf=5, n_estimators=500, random_state=88, total=   2.7s\n",
      "[CV] max_features=17, min_samples_leaf=5, n_estimators=500, random_state=88 \n",
      "[CV]  max_features=17, min_samples_leaf=5, n_estimators=500, random_state=88, total=   2.3s\n",
      "[CV] max_features=17, min_samples_leaf=5, n_estimators=500, random_state=88 \n",
      "[CV]  max_features=17, min_samples_leaf=5, n_estimators=500, random_state=88, total=   2.2s\n",
      "[CV] max_features=17, min_samples_leaf=5, n_estimators=500, random_state=88 \n",
      "[CV]  max_features=17, min_samples_leaf=5, n_estimators=500, random_state=88, total=   2.3s\n",
      "[CV] max_features=18, min_samples_leaf=5, n_estimators=500, random_state=88 \n",
      "[CV]  max_features=18, min_samples_leaf=5, n_estimators=500, random_state=88, total=   2.5s\n",
      "[CV] max_features=18, min_samples_leaf=5, n_estimators=500, random_state=88 \n",
      "[CV]  max_features=18, min_samples_leaf=5, n_estimators=500, random_state=88, total=   2.4s\n",
      "[CV] max_features=18, min_samples_leaf=5, n_estimators=500, random_state=88 \n",
      "[CV]  max_features=18, min_samples_leaf=5, n_estimators=500, random_state=88, total=   2.3s\n",
      "[CV] max_features=18, min_samples_leaf=5, n_estimators=500, random_state=88 \n",
      "[CV]  max_features=18, min_samples_leaf=5, n_estimators=500, random_state=88, total=   2.3s\n",
      "[CV] max_features=18, min_samples_leaf=5, n_estimators=500, random_state=88 \n",
      "[CV]  max_features=18, min_samples_leaf=5, n_estimators=500, random_state=88, total=   2.3s\n"
     ]
    },
    {
     "name": "stderr",
     "output_type": "stream",
     "text": [
      "[Parallel(n_jobs=1)]: Done  90 out of  90 | elapsed:  2.9min finished\n"
     ]
    },
    {
     "name": "stdout",
     "output_type": "stream",
     "text": [
      "time: 173.62 s\n"
     ]
    }
   ],
   "source": [
    "from sklearn.ensemble import RandomForestClassifier\n",
    "import time\n",
    "\n",
    "grid_values = {'max_features': np.linspace(1,18,18, dtype='int32'),\n",
    "               'min_samples_leaf': [5],\n",
    "               'n_estimators': [500],\n",
    "               'random_state': [88]} \n",
    "\n",
    "tic = time.time()\n",
    "\n",
    "random_forest = RandomForestClassifier() \n",
    "\n",
    "cv = KFold(n_splits=5,random_state=333,shuffle=True) \n",
    "rf_cv = GridSearchCV(random_forest, param_grid=grid_values, scoring='r2', cv=cv,verbose=2)\n",
    "rf_cv.fit(X_train, y_train)\n",
    "\n",
    "toc = time.time()\n",
    "\n",
    "print('time:', round(toc-tic, 2),'s')"
   ]
  },
  {
   "cell_type": "code",
   "execution_count": 30,
   "metadata": {},
   "outputs": [
    {
     "data": {
      "image/png": "[encoded data removed]",
      "text/plain": [
       "<Figure size 576x432 with 1 Axes>"
      ]
     },
     "metadata": {
      "needs_background": "light"
     },
     "output_type": "display_data"
    }
   ],
   "source": [
    "max_features = rf_cv.cv_results_['param_max_features'].data\n",
    "R2_scores = rf_cv.cv_results_['mean_test_score']\n",
    "\n",
    "plt.figure(figsize=(8, 6))\n",
    "plt.xlabel('max features', fontsize=16)\n",
    "plt.ylabel('CV R2', fontsize=16)\n",
    "plt.scatter(max_features, R2_scores, s=30)\n",
    "plt.plot(max_features, R2_scores, linewidth=3)\n",
    "plt.grid(True, which='both')"
   ]
  },
  {
   "cell_type": "code",
   "execution_count": 31,
   "metadata": {},
   "outputs": [
    {
     "name": "stdout",
     "output_type": "stream",
     "text": [
      "{'max_features': 5, 'min_samples_leaf': 5, 'n_estimators': 500, 'random_state': 88}\n"
     ]
    }
   ],
   "source": [
    "print(rf_cv.best_params_)"
   ]
  },
  {
   "cell_type": "code",
   "execution_count": 32,
   "metadata": {},
   "outputs": [],
   "source": [
    "def OSR2(model, X_test, y_test, y_train):\n",
    "    \n",
    "    y_pred = model.predict(X_test)\n",
    "    SSE = np.sum((y_test - y_pred)**2)\n",
    "    SST = np.sum((y_test - np.mean(y_train))**2)\n",
    "                 \n",
    "    return (1 - SSE/SST)"
   ]
  },
  {
   "cell_type": "code",
   "execution_count": 33,
   "metadata": {},
   "outputs": [
    {
     "data": {
      "text/plain": [
       "-0.3477755706152186"
      ]
     },
     "execution_count": 33,
     "metadata": {},
     "output_type": "execute_result"
    }
   ],
   "source": [
    "OSR2(rf_cv, X_test, y_test, y_train) #?"
   ]
  },
  {
   "cell_type": "code",
   "execution_count": 34,
   "metadata": {},
   "outputs": [
    {
     "data": {
      "text/html": [
       "<div>\n",
       "<style scoped>\n",
       "    .dataframe tbody tr th:only-of-type {\n",
       "        vertical-align: middle;\n",
       "    }\n",
       "\n",
       "    .dataframe tbody tr th {\n",
       "        vertical-align: top;\n",
       "    }\n",
       "\n",
       "    .dataframe thead th {\n",
       "        text-align: right;\n",
       "    }\n",
       "</style>\n",
       "<table border=\"1\" class=\"dataframe\">\n",
       "  <thead>\n",
       "    <tr style=\"text-align: right;\">\n",
       "      <th></th>\n",
       "      <th>Feature</th>\n",
       "      <th>Importance score</th>\n",
       "    </tr>\n",
       "  </thead>\n",
       "  <tbody>\n",
       "    <tr>\n",
       "      <th>0</th>\n",
       "      <td>review_count</td>\n",
       "      <td>20.3</td>\n",
       "    </tr>\n",
       "    <tr>\n",
       "      <th>1</th>\n",
       "      <td>GoodForKids_(Missing)</td>\n",
       "      <td>1.4</td>\n",
       "    </tr>\n",
       "    <tr>\n",
       "      <th>2</th>\n",
       "      <td>GoodForKids_FALSE</td>\n",
       "      <td>1.0</td>\n",
       "    </tr>\n",
       "    <tr>\n",
       "      <th>3</th>\n",
       "      <td>GoodForKids_TRUE</td>\n",
       "      <td>2.1</td>\n",
       "    </tr>\n",
       "    <tr>\n",
       "      <th>4</th>\n",
       "      <td>Alcohol_'beer_and_wine'</td>\n",
       "      <td>1.1</td>\n",
       "    </tr>\n",
       "    <tr>\n",
       "      <th>5</th>\n",
       "      <td>Alcohol_'full_bar'</td>\n",
       "      <td>1.9</td>\n",
       "    </tr>\n",
       "    <tr>\n",
       "      <th>6</th>\n",
       "      <td>Alcohol_'none'</td>\n",
       "      <td>2.2</td>\n",
       "    </tr>\n",
       "    <tr>\n",
       "      <th>7</th>\n",
       "      <td>Alcohol_(Missing)</td>\n",
       "      <td>1.0</td>\n",
       "    </tr>\n",
       "    <tr>\n",
       "      <th>8</th>\n",
       "      <td>BusinessAcceptsCreditCards_(Missing)</td>\n",
       "      <td>0.3</td>\n",
       "    </tr>\n",
       "    <tr>\n",
       "      <th>9</th>\n",
       "      <td>BusinessAcceptsCreditCards_FALSE</td>\n",
       "      <td>1.1</td>\n",
       "    </tr>\n",
       "    <tr>\n",
       "      <th>10</th>\n",
       "      <td>BusinessAcceptsCreditCards_TRUE</td>\n",
       "      <td>0.7</td>\n",
       "    </tr>\n",
       "    <tr>\n",
       "      <th>11</th>\n",
       "      <td>WiFi_'free'</td>\n",
       "      <td>2.2</td>\n",
       "    </tr>\n",
       "    <tr>\n",
       "      <th>12</th>\n",
       "      <td>WiFi_'no'</td>\n",
       "      <td>1.5</td>\n",
       "    </tr>\n",
       "    <tr>\n",
       "      <th>13</th>\n",
       "      <td>WiFi_'paid'</td>\n",
       "      <td>0.0</td>\n",
       "    </tr>\n",
       "    <tr>\n",
       "      <th>14</th>\n",
       "      <td>WiFi_(Missing)</td>\n",
       "      <td>1.2</td>\n",
       "    </tr>\n",
       "    <tr>\n",
       "      <th>15</th>\n",
       "      <td>BikeParking_(Missing)</td>\n",
       "      <td>2.0</td>\n",
       "    </tr>\n",
       "    <tr>\n",
       "      <th>16</th>\n",
       "      <td>BikeParking_FALSE</td>\n",
       "      <td>1.7</td>\n",
       "    </tr>\n",
       "    <tr>\n",
       "      <th>17</th>\n",
       "      <td>BikeParking_TRUE</td>\n",
       "      <td>1.9</td>\n",
       "    </tr>\n",
       "    <tr>\n",
       "      <th>18</th>\n",
       "      <td>ByAppointmentOnly_(Missing)</td>\n",
       "      <td>2.4</td>\n",
       "    </tr>\n",
       "    <tr>\n",
       "      <th>19</th>\n",
       "      <td>ByAppointmentOnly_FALSE</td>\n",
       "      <td>2.1</td>\n",
       "    </tr>\n",
       "    <tr>\n",
       "      <th>20</th>\n",
       "      <td>ByAppointmentOnly_TRUE</td>\n",
       "      <td>0.1</td>\n",
       "    </tr>\n",
       "    <tr>\n",
       "      <th>21</th>\n",
       "      <td>WheelechairAccessible_(Missing)</td>\n",
       "      <td>12.0</td>\n",
       "    </tr>\n",
       "    <tr>\n",
       "      <th>22</th>\n",
       "      <td>WheelechairAccessible_FALSE</td>\n",
       "      <td>1.1</td>\n",
       "    </tr>\n",
       "    <tr>\n",
       "      <th>23</th>\n",
       "      <td>WheelechairAccessible_TRUE</td>\n",
       "      <td>8.8</td>\n",
       "    </tr>\n",
       "    <tr>\n",
       "      <th>24</th>\n",
       "      <td>OutdoorSeating_(Missing)</td>\n",
       "      <td>1.0</td>\n",
       "    </tr>\n",
       "    <tr>\n",
       "      <th>25</th>\n",
       "      <td>OutdoorSeating_FALSE</td>\n",
       "      <td>2.4</td>\n",
       "    </tr>\n",
       "    <tr>\n",
       "      <th>26</th>\n",
       "      <td>OutdoorSeating_TRUE</td>\n",
       "      <td>2.0</td>\n",
       "    </tr>\n",
       "    <tr>\n",
       "      <th>27</th>\n",
       "      <td>RestaurantsReservations_(Missing)</td>\n",
       "      <td>1.3</td>\n",
       "    </tr>\n",
       "    <tr>\n",
       "      <th>28</th>\n",
       "      <td>RestaurantsReservations_FALSE</td>\n",
       "      <td>3.0</td>\n",
       "    </tr>\n",
       "    <tr>\n",
       "      <th>29</th>\n",
       "      <td>RestaurantsReservations_TRUE</td>\n",
       "      <td>1.7</td>\n",
       "    </tr>\n",
       "    <tr>\n",
       "      <th>30</th>\n",
       "      <td>DogsAllowed_(Missing)</td>\n",
       "      <td>6.5</td>\n",
       "    </tr>\n",
       "    <tr>\n",
       "      <th>31</th>\n",
       "      <td>DogsAllowed_FALSE</td>\n",
       "      <td>4.4</td>\n",
       "    </tr>\n",
       "    <tr>\n",
       "      <th>32</th>\n",
       "      <td>DogsAllowed_TRUE</td>\n",
       "      <td>0.9</td>\n",
       "    </tr>\n",
       "    <tr>\n",
       "      <th>33</th>\n",
       "      <td>Caters_(Missing)</td>\n",
       "      <td>1.2</td>\n",
       "    </tr>\n",
       "    <tr>\n",
       "      <th>34</th>\n",
       "      <td>Caters_FALSE</td>\n",
       "      <td>2.7</td>\n",
       "    </tr>\n",
       "    <tr>\n",
       "      <th>35</th>\n",
       "      <td>Caters_TRUE</td>\n",
       "      <td>2.8</td>\n",
       "    </tr>\n",
       "  </tbody>\n",
       "</table>\n",
       "</div>"
      ],
      "text/plain": [
       "                                 Feature  Importance score\n",
       "0                           review_count              20.3\n",
       "1                  GoodForKids_(Missing)               1.4\n",
       "2                      GoodForKids_FALSE               1.0\n",
       "3                       GoodForKids_TRUE               2.1\n",
       "4                Alcohol_'beer_and_wine'               1.1\n",
       "5                     Alcohol_'full_bar'               1.9\n",
       "6                         Alcohol_'none'               2.2\n",
       "7                      Alcohol_(Missing)               1.0\n",
       "8   BusinessAcceptsCreditCards_(Missing)               0.3\n",
       "9       BusinessAcceptsCreditCards_FALSE               1.1\n",
       "10       BusinessAcceptsCreditCards_TRUE               0.7\n",
       "11                           WiFi_'free'               2.2\n",
       "12                             WiFi_'no'               1.5\n",
       "13                           WiFi_'paid'               0.0\n",
       "14                        WiFi_(Missing)               1.2\n",
       "15                 BikeParking_(Missing)               2.0\n",
       "16                     BikeParking_FALSE               1.7\n",
       "17                      BikeParking_TRUE               1.9\n",
       "18           ByAppointmentOnly_(Missing)               2.4\n",
       "19               ByAppointmentOnly_FALSE               2.1\n",
       "20                ByAppointmentOnly_TRUE               0.1\n",
       "21       WheelechairAccessible_(Missing)              12.0\n",
       "22           WheelechairAccessible_FALSE               1.1\n",
       "23            WheelechairAccessible_TRUE               8.8\n",
       "24              OutdoorSeating_(Missing)               1.0\n",
       "25                  OutdoorSeating_FALSE               2.4\n",
       "26                   OutdoorSeating_TRUE               2.0\n",
       "27     RestaurantsReservations_(Missing)               1.3\n",
       "28         RestaurantsReservations_FALSE               3.0\n",
       "29          RestaurantsReservations_TRUE               1.7\n",
       "30                 DogsAllowed_(Missing)               6.5\n",
       "31                     DogsAllowed_FALSE               4.4\n",
       "32                      DogsAllowed_TRUE               0.9\n",
       "33                      Caters_(Missing)               1.2\n",
       "34                          Caters_FALSE               2.7\n",
       "35                           Caters_TRUE               2.8"
      ]
     },
     "execution_count": 34,
     "metadata": {},
     "output_type": "execute_result"
    }
   ],
   "source": [
    "pd.DataFrame({'Feature' : X_train.columns,  \n",
    "              'Importance score': 100*rf_cv.best_estimator_.feature_importances_}).round(1)\n"
   ]
  },
  {
   "cell_type": "markdown",
   "metadata": {},
   "source": [
    "#### Explain how you did the cross validation and how you selected the value of m.\n",
    "\n",
    "Answer: All we did here is trying to prevent overfitting using corss valiadaiton and restrict the features that we have selected. In order to achieve cross validation to minimize bias, we 1) shuffle the dataset (using shuffle=True in Python), 2)split the data set into 5 groups (as we discussed in class 5-fold or 10-fold is the best), 3) we take out one group as hold out group/test set, fit the model on the remaining dataset and evaluate it on the test set. We do it for 5 times to get the most un-biased result we can get using the 5-fold cv random forest model.\n",
    "\n",
    "I chose k = 5 instead of 1 or 2 as to minimize the difference in size between the training set and the resampling subsets. In other words, according to what we discusses in class, k = 5 would yield the optimized and un-biased result in a timely-manner."
   ]
  },
  {
   "cell_type": "markdown",
   "metadata": {},
   "source": [
    "**vii) Produce a table for evaluating the performance of the models that you have built. The table should consider the following models: a baseline model that predicts the most frequent outcome for fourOrAbove, the two regression models with thresholding, and all of the classification models built in this part of the problem. Additionally, the table should report the following performance metrics: accuracy (our primary performance metric), TPR, and FPR. All of these performance metrics should be computed using the test set data provided in the yelp142 test.csv file. How do you judge the performance of the models? Do the results seem reasonable to you? Which model would you recommend for this problem and why?**"
   ]
  },
  {
   "cell_type": "markdown",
   "metadata": {},
   "source": [
    "### Baseline model"
   ]
  },
  {
   "cell_type": "code",
   "execution_count": 36,
   "metadata": {},
   "outputs": [
    {
     "name": "stdout",
     "output_type": "stream",
     "text": [
      "0    1475\n",
      "1    1213\n",
      "dtype: int64\n",
      "Accuracy_Baseline: 0.5487351190476191 \n"
     ]
    }
   ],
   "source": [
    "# Baseline model\n",
    "default_false = np.sum(yelp_4_test['fourOrAbove'] == 0)\n",
    "default_true = np.sum(yelp_4_test['fourOrAbove'] == 1)\n",
    "\n",
    "print(pd.Series({'0': default_false, '1': default_true}))\n",
    "\n",
    "accuracy_baseline = default_false/(default_false + default_true) #Accuracy = (TP+TN)/(TP+TN+FP+FN)\n",
    "print('Accuracy_Baseline: %s '%accuracy_baseline)\n"
   ]
  },
  {
   "cell_type": "code",
   "execution_count": 38,
   "metadata": {},
   "outputs": [
    {
     "data": {
      "text/plain": [
       "array([[1475,    0],\n",
       "       [1213,    0]])"
      ]
     },
     "execution_count": 38,
     "metadata": {},
     "output_type": "execute_result"
    }
   ],
   "source": [
    "from sklearn.metrics import confusion_matrix\n",
    "confusion_matrix(yelp_4_test['fourOrAbove'],[0] * yelp_test.shape[0])"
   ]
  },
  {
   "cell_type": "code",
   "execution_count": 41,
   "metadata": {},
   "outputs": [
    {
     "name": "stdout",
     "output_type": "stream",
     "text": [
      "TPR_Baseline: 0.0 \n",
      "FPR_Baseline: 0.0 \n"
     ]
    }
   ],
   "source": [
    "\n",
    "negative_baseline = np.sum(yelp_4_test['fourOrAbove'] == 0)\n",
    "positive_baseline = np.sum(yelp_4_test['fourOrAbove'] == 1)\n",
    "TPR = 0/negative_baseline #TP/TP+FN\n",
    "FPR = 0/positive_baseline #FP/FP+TN\n",
    "\n",
    "print('TPR_Baseline: %s '%TPR)\n",
    "print('FPR_Baseline: %s '%FPR)\n"
   ]
  },
  {
   "cell_type": "markdown",
   "metadata": {},
   "source": [
    "the classification tree model out- performs the regression tree model."
   ]
  },
  {
   "cell_type": "markdown",
   "metadata": {},
   "source": [
    "**e) (15 points) Suppose that you are a data scientist working for Yelp and you have been tasked with producing a “how to guide” for Las Vegas restaurants, which is supposed to include tips for actions restaurants may take to achieve a high star rating. Use the provided data to construct a list of three such tips. Each of your tips should be justified by the data, and each justification should be understandable by a restaurant owner who may not know much about machine learning. This question is purposefully open ended, and you may consider using modeling techniques and/or visualizations to come up with and justify your three tips.**"
   ]
  },
  {
   "cell_type": "code",
   "execution_count": 42,
   "metadata": {},
   "outputs": [
    {
     "name": "stdout",
     "output_type": "stream",
     "text": [
      "Node count = 13\n"
     ]
    },
    {
     "data": {
      "image/png": "[encoded data removed]",
      "text/plain": [
       "<Figure size 1224x648 with 1 Axes>"
      ]
     },
     "metadata": {
      "needs_background": "light"
     },
     "output_type": "display_data"
    }
   ],
   "source": [
    "import matplotlib.pyplot as plt\n",
    "from sklearn.tree import plot_tree\n",
    "from sklearn.tree import DecisionTreeClassifier\n",
    "\n",
    "dtc_shallow = DecisionTreeClassifier(max_leaf_nodes = 7)\n",
    "dtc_shallow.fit(x_train_d4, y_train_d4)\n",
    "\n",
    "print('Node count =', dtc_shallow.tree_.node_count)\n",
    "plt.figure(figsize = (17,9))\n",
    "plot_tree(dtc_shallow, \n",
    "        feature_names =x_train_d4.columns,\n",
    "        class_names = ['0','1'],\n",
    "          filled = True,\n",
    "          impurity = False,\n",
    "          rounded = True,\n",
    "          fontsize = 12)\n",
    "plt.show()"
   ]
  },
  {
   "cell_type": "markdown",
   "metadata": {},
   "source": [
    "From the plot above, we can observe that the first three splits that lead to Class = 1 are the blue nodes on the left. Furthermore, we can observe that WheelchairAccessible (Missing), ByAppoint- mentOnly (Missing), and DogsAllowed (Missing) are the decision nodes. A value of 0 (which is equivalent to <= 0.5), would lead to the left branch, which corresponds to class = 1. \n",
    "\n",
    "Therefore, we can conclude that the information of whether the restaurant is wheelchair accessible, whether it is by appointment only, and whether it allows dogs are important to achieving a high rating."
   ]
  }
 ],
 "metadata": {
  "kernelspec": {
   "display_name": "Python 3",
   "language": "python",
   "name": "python3"
  },
  "language_info": {
   "codemirror_mode": {
    "name": "ipython",
    "version": 3
   },
   "file_extension": ".py",
   "mimetype": "text/x-python",
   "name": "python",
   "nbconvert_exporter": "python",
   "pygments_lexer": "ipython3",
   "version": "3.8.5"
  }
 },
 "nbformat": 4,
 "nbformat_minor": 4
}
